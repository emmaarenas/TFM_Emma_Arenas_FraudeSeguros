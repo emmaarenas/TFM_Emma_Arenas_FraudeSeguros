{
 "cells": [
  {
   "cell_type": "markdown",
   "id": "3d0821aa",
   "metadata": {},
   "source": [
    "# Importación de librerías"
   ]
  },
  {
   "cell_type": "code",
   "execution_count": 1,
   "id": "ac9ed2a6",
   "metadata": {},
   "outputs": [],
   "source": [
    "import numpy as np\n",
    "import pandas as pd\n",
    "from sklearn.preprocessing import LabelEncoder\n",
    "import warnings\n",
    "warnings.simplefilter(action='ignore', category=FutureWarning)\n",
    "from sklearn.preprocessing import OrdinalEncoder"
   ]
  },
  {
   "cell_type": "markdown",
   "id": "37304734",
   "metadata": {},
   "source": [
    "# Importación del dataset"
   ]
  },
  {
   "cell_type": "code",
   "execution_count": 2,
   "id": "98d3fd71",
   "metadata": {},
   "outputs": [],
   "source": [
    "df = pd.read_csv('../Data/data_raw.csv')"
   ]
  },
  {
   "cell_type": "markdown",
   "id": "4c0bc925",
   "metadata": {},
   "source": [
    "# Preprocesado"
   ]
  },
  {
   "cell_type": "markdown",
   "id": "01f2cb41",
   "metadata": {},
   "source": [
    "Comienza el preprocesado del dataset a partir del EDA realizado."
   ]
  },
  {
   "cell_type": "markdown",
   "id": "5cd94be2",
   "metadata": {},
   "source": [
    "## Limpieza de datos"
   ]
  },
  {
   "cell_type": "markdown",
   "id": "34806669",
   "metadata": {},
   "source": [
    "Eliminar filas con:\n",
    "\n",
    "- **DayOfWeekClaimed** = 0\n",
    "\n",
    "- **MonthClaimed** = 0"
   ]
  },
  {
   "cell_type": "code",
   "execution_count": 3,
   "id": "e42599f7",
   "metadata": {},
   "outputs": [],
   "source": [
    "df = df[df['DayOfWeekClaimed'] != '0']\n",
    "df = df[df['MonthClaimed'] != '0']"
   ]
  },
  {
   "cell_type": "markdown",
   "id": "3db62b2c",
   "metadata": {},
   "source": [
    "## Eliminación de variables no útiles"
   ]
  },
  {
   "cell_type": "markdown",
   "id": "03673dc6",
   "metadata": {},
   "source": [
    "Eliminar:\n",
    "\n",
    "- **PolicyNumber** y **RepNumber** (son IDs que no aportan información útil).\n",
    "\n",
    "- **PolicyType** y **Age** (por redundancia extrema).\n",
    "\n",
    "- **DriverRating** (por falta de información).\n",
    "- **Year** (por no poder generalizar a años futuros)."
   ]
  },
  {
   "cell_type": "code",
   "execution_count": 4,
   "id": "82133275",
   "metadata": {},
   "outputs": [],
   "source": [
    "df.drop(columns=['PolicyNumber', 'RepNumber', 'PolicyType', 'DriverRating', 'Age', 'Year'], inplace=True)"
   ]
  },
  {
   "cell_type": "markdown",
   "id": "5a74fa07",
   "metadata": {},
   "source": [
    "## Conversión de variables categóricas a simples booleanas"
   ]
  },
  {
   "cell_type": "markdown",
   "id": "0c8f490a",
   "metadata": {},
   "source": [
    "| Variable          | Cómo transformar                   \n",
    "| ----------------- | ---------------------------------- \n",
    "| AccidentArea      | Urban = 1, Rural = 0               \n",
    "| Sex               | Male = 1, Female = 0               \n",
    "| Fault             | Third Party = 1, Policy Holder = 0 \n",
    "| PoliceReportFiled | Yes = 1, No = 0                   \n",
    "| WitnessPresent    | Yes = 1, No = 0                    \n",
    "| AgentType         | Internal = 1, External = 0         \n"
   ]
  },
  {
   "cell_type": "code",
   "execution_count": 5,
   "id": "e84685c1",
   "metadata": {},
   "outputs": [
    {
     "name": "stdout",
     "output_type": "stream",
     "text": [
      "AccidentArea mapping: {'Rural': 0, 'Urban': 1}\n",
      "Sex mapping: {'Female': 0, 'Male': 1}\n",
      "Fault mapping: {'Policy Holder': 0, 'Third Party': 1}\n",
      "PoliceReportFiled mapping: {'No': 0, 'Yes': 1}\n",
      "WitnessPresent mapping: {'No': 0, 'Yes': 1}\n",
      "AgentType mapping: {'External': 0, 'Internal': 1}\n"
     ]
    }
   ],
   "source": [
    "binary_cols = ['AccidentArea', 'Sex', 'Fault', 'PoliceReportFiled', 'WitnessPresent', 'AgentType']\n",
    "\n",
    "# Diccionario para guardar los encoders\n",
    "encoders = {}\n",
    "\n",
    "for col in binary_cols:\n",
    "    le = LabelEncoder()\n",
    "    df[col] = le.fit_transform(df[col])\n",
    "    encoders[col] = le\n",
    "    print(f\"{col} mapping: {dict(zip(le.classes_, le.transform(le.classes_)))}\")"
   ]
  },
  {
   "cell_type": "markdown",
   "id": "6aa5c19e",
   "metadata": {},
   "source": [
    "## Conversión de variables con rangos a valores medios"
   ]
  },
  {
   "cell_type": "code",
   "execution_count": 6,
   "id": "c8f1298b",
   "metadata": {},
   "outputs": [
    {
     "name": "stdout",
     "output_type": "stream",
     "text": [
      "PastNumberOfClaims      float64\n",
      "AgeOfPolicyHolder       float64\n",
      "NumberOfSuppliments     float64\n",
      "VehiclePrice            float64\n",
      "Days_Policy_Accident    float64\n",
      "Days_Policy_Claim       float64\n",
      "AgeOfVehicle            float64\n",
      "NumberOfCars            float64\n",
      "dtype: object\n"
     ]
    }
   ],
   "source": [
    "col_map = [\n",
    "    {'PastNumberOfClaims': {\n",
    "        'none': 0,\n",
    "        '1': 1,\n",
    "        '2 to 4': 3,\n",
    "        'more than 4': 5\n",
    "    }},\n",
    "    {'AgeOfPolicyHolder': {\n",
    "        '16 to 17': 16.5,\n",
    "        '18 to 20': 19,\n",
    "        '21 to 25': 23,\n",
    "        '26 to 30': 28,\n",
    "        '31 to 35': 33,\n",
    "        '36 to 40': 38,\n",
    "        '41 to 50': 45.5,\n",
    "        '51 to 65': 58,\n",
    "        'over 65': 66\n",
    "    }},\n",
    "    {'NumberOfSuppliments': {\n",
    "        'none': 0,\n",
    "        '1 to 2': 1.5,\n",
    "        '3 to 5': 4,\n",
    "        'more than 5': 6\n",
    "    }},  \n",
    "    {'VehiclePrice': {\n",
    "        '20000 to 29000': 24500,\n",
    "        '30000 to 39000': 34500,\n",
    "        '40000 to 59000': 49500,\n",
    "        '60000 to 69000': 64500,\n",
    "        'less than 20000': 15000,\n",
    "        'more than 69000': 70000\n",
    "    }},\n",
    "    {'Days_Policy_Accident': {\n",
    "        'none': 0,\n",
    "        '1 to 7': 4,\n",
    "        '8 to 15': 11.5,\n",
    "        '15 to 30': 22.5,\n",
    "        'more than 30': 35\n",
    "    }},\n",
    "    {'Days_Policy_Claim': {\n",
    "        'none': 0,\n",
    "        '8 to 15': 11.5,\n",
    "        '15 to 30': 22.5,\n",
    "        'more than 30': 35\n",
    "    }},\n",
    "    {'AgeOfVehicle': {\n",
    "        '2 years': 2,\n",
    "        '3 years': 3,\n",
    "        '4 years': 4,\n",
    "        '5 years': 5,\n",
    "        '6 years': 6,\n",
    "        '7 years': 7,\n",
    "        'more than 7': 8,\n",
    "        'new': 0.5\n",
    "    }},\n",
    "    {'NumberOfCars': {\n",
    "        '1 vehicle': 1,\n",
    "        '2 vehicles': 2,\n",
    "        '3 to 4': 3.5,\n",
    "        '5 to 8': 6.5,\n",
    "        'more than 8': 9\n",
    "    }}\n",
    "]\n",
    "\n",
    "# Aplicar los reemplazos\n",
    "for mapping in col_map:\n",
    "    df.replace(mapping, inplace=True)\n",
    "\n",
    "# Convertir a float\n",
    "for mapping in col_map:\n",
    "    col = list(mapping.keys())[0]\n",
    "    df[col] = df[col].astype(float)\n",
    "\n",
    "print(df[[list(m.keys())[0] for m in col_map]].dtypes)\n"
   ]
  },
  {
   "cell_type": "markdown",
   "id": "bc3c1d3c",
   "metadata": {},
   "source": [
    "## Codificación de variables categóricas"
   ]
  },
  {
   "cell_type": "markdown",
   "id": "8ba1af1e",
   "metadata": {},
   "source": [
    "El **OrdinalEncoder** es más adecuado que el **One-Hot Encoding** por las siguientes razones:\n",
    "\n",
    "1. **Número limitado de categorías**: las variables listadas tienen un número limitado de categorías que son fundamentales para la predicción, pero no son necesariamente independientes entre sí. Por ejemplo, los meses del año (**Month**), o el día de la semana (**DayOfWeek**), no deberían ser tratadas como variables independientes, ya que el orden tiene un impacto en la relación entre las categorías.\n",
    "\n",
    "3. **Evitar la expansión de la dimensionalidad**: utilizar **One-Hot Encoding** en variables con muchas categorías (como **Make**, que tiene muchas marcas de vehículos diferentes) puede aumentar de manera considerable el número de características del conjunto de datos. Esto podría resultar en un modelo más complejo y un mayor riesgo de sobreajuste, especialmente si las categorías tienen poca representación en los datos."
   ]
  },
  {
   "cell_type": "code",
   "execution_count": 7,
   "id": "b1787eec",
   "metadata": {},
   "outputs": [
    {
     "name": "stdout",
     "output_type": "stream",
     "text": [
      "              Variable  Nº Valores únicos  \\\n",
      "0                Month                 12   \n",
      "1            DayOfWeek                  7   \n",
      "2                 Make                 19   \n",
      "3     DayOfWeekClaimed                  7   \n",
      "4         MonthClaimed                 12   \n",
      "5        MaritalStatus                  4   \n",
      "6      VehicleCategory                  3   \n",
      "7  AddressChange_Claim                  5   \n",
      "8           BasePolicy                  3   \n",
      "\n",
      "                                             Valores  \n",
      "0  [Dec, Jan, Oct, Jun, Feb, Nov, Apr, Mar, Aug, ...  \n",
      "1  [Wednesday, Friday, Saturday, Monday, Tuesday,...  \n",
      "2  [Honda, Toyota, Ford, Mazda, Chevrolet, Pontia...  \n",
      "3  [Tuesday, Monday, Thursday, Friday, Wednesday,...  \n",
      "4  [Jan, Nov, Jul, Feb, Mar, Dec, Apr, Aug, May, ...  \n",
      "5                 [Single, Married, Widow, Divorced]  \n",
      "6                            [Sport, Utility, Sedan]  \n",
      "7  [1 year, no change, 4 to 8 years, 2 to 3 years...  \n",
      "8                 [Liability, Collision, All Perils]  \n"
     ]
    }
   ],
   "source": [
    "categorical_cols = df.select_dtypes(include=['object']).columns\n",
    "\n",
    "cat_summary = pd.DataFrame({\n",
    "    \"Variable\": categorical_cols,\n",
    "    \"Nº Valores únicos\": [df[col].nunique() for col in categorical_cols],\n",
    "    \"Valores\": [df[col].unique().tolist() for col in categorical_cols]\n",
    "})\n",
    "\n",
    "print(cat_summary)"
   ]
  },
  {
   "cell_type": "code",
   "execution_count": 8,
   "id": "6c4c7bd1",
   "metadata": {},
   "outputs": [
    {
     "name": "stdout",
     "output_type": "stream",
     "text": [
      "Categorías asignadas a cada columna:\n",
      "Month: {'Jan': 0, 'Feb': 1, 'Mar': 2, 'Apr': 3, 'May': 4, 'Jun': 5, 'Jul': 6, 'Aug': 7, 'Sep': 8, 'Oct': 9, 'Nov': 10, 'Dec': 11}\n",
      "DayOfWeek: {'Monday': 0, 'Tuesday': 1, 'Wednesday': 2, 'Thursday': 3, 'Friday': 4, 'Saturday': 5, 'Sunday': 6}\n",
      "Make: {'Accura': 0, 'BMW': 1, 'Chevrolet': 2, 'Dodge': 3, 'Ferrari': 4, 'Ford': 5, 'Honda': 6, 'Jaguar': 7, 'Lexus': 8, 'Mazda': 9, 'Mecedes': 10, 'Mercury': 11, 'Nisson': 12, 'Pontiac': 13, 'Porche': 14, 'Saab': 15, 'Saturn': 16, 'Toyota': 17, 'VW': 18}\n",
      "DayOfWeekClaimed: {'Monday': 0, 'Tuesday': 1, 'Wednesday': 2, 'Thursday': 3, 'Friday': 4, 'Saturday': 5, 'Sunday': 6}\n",
      "MonthClaimed: {'Jan': 0, 'Feb': 1, 'Mar': 2, 'Apr': 3, 'May': 4, 'Jun': 5, 'Jul': 6, 'Aug': 7, 'Sep': 8, 'Oct': 9, 'Nov': 10, 'Dec': 11}\n",
      "MaritalStatus: {'Divorced': 0, 'Married': 1, 'Single': 2, 'Widow': 3}\n",
      "VehicleCategory: {'Sedan': 0, 'Sport': 1, 'Utility': 2}\n",
      "BasePolicy: {'All Perils': 0, 'Collision': 1, 'Liability': 2}\n",
      "AddressChange_Claim: {'under 6 months': 0, 'no change': 1, '1 year': 2, '2 to 3 years': 3, '4 to 8 years': 4}\n"
     ]
    }
   ],
   "source": [
    "# Diccionarios con el orden secuencial\n",
    "month_order = ['Jan', 'Feb', 'Mar', 'Apr', 'May', 'Jun', 'Jul', 'Aug', 'Sep', 'Oct', 'Nov', 'Dec']\n",
    "dayofweek_order = ['Monday', 'Tuesday', 'Wednesday', 'Thursday', 'Friday', 'Saturday', 'Sunday']\n",
    "make_order = ['Accura','BMW','Chevrolet','Dodge','Ferrari','Ford','Honda','Jaguar','Lexus','Mazda','Mecedes','Mercury','Nisson','Pontiac','Porche','Saab','Saturn','Toyota','VW']\n",
    "marital_order = ['Divorced', 'Married', 'Single', 'Widow']\n",
    "vehiclecat_order = ['Sedan', 'Sport', 'Utility']\n",
    "basepolicy_order = ['All Perils', 'Collision', 'Liability']\n",
    "addresschange_order = ['under 6 months', 'no change', '1 year', '2 to 3 years', '4 to 8 years']\n",
    "\n",
    "# Lista de variables categóricas\n",
    "cat_vars = [\n",
    "    'Month',\n",
    "    'DayOfWeek',\n",
    "    'Make',\n",
    "    'DayOfWeekClaimed',\n",
    "    'MonthClaimed',\n",
    "    'MaritalStatus',\n",
    "    'VehicleCategory',\n",
    "    'BasePolicy',\n",
    "    'AddressChange_Claim'\n",
    "]\n",
    "categories_list = [\n",
    "    month_order,\n",
    "    dayofweek_order,\n",
    "    make_order,\n",
    "    dayofweek_order,  \n",
    "    month_order,      \n",
    "    marital_order,\n",
    "    vehiclecat_order,\n",
    "    basepolicy_order,\n",
    "    addresschange_order\n",
    "]\n",
    "\n",
    "encoder = OrdinalEncoder(categories=categories_list)\n",
    "\n",
    "df[cat_vars] = encoder.fit_transform(df[cat_vars])\n",
    "\n",
    "print(\"Categorías asignadas a cada columna:\")\n",
    "for feature, categories in zip(cat_vars, encoder.categories_):\n",
    "    print(f\"{feature}: {dict(zip(categories, range(len(categories))))}\")"
   ]
  },
  {
   "cell_type": "code",
   "execution_count": 9,
   "id": "8dde0239",
   "metadata": {},
   "outputs": [
    {
     "data": {
      "application/vnd.microsoft.datawrangler.viewer.v0+json": {
       "columns": [
        {
         "name": "index",
         "rawType": "int64",
         "type": "integer"
        },
        {
         "name": "Month",
         "rawType": "float64",
         "type": "float"
        },
        {
         "name": "WeekOfMonth",
         "rawType": "int64",
         "type": "integer"
        },
        {
         "name": "DayOfWeek",
         "rawType": "float64",
         "type": "float"
        },
        {
         "name": "Make",
         "rawType": "float64",
         "type": "float"
        },
        {
         "name": "AccidentArea",
         "rawType": "int32",
         "type": "integer"
        },
        {
         "name": "DayOfWeekClaimed",
         "rawType": "float64",
         "type": "float"
        },
        {
         "name": "MonthClaimed",
         "rawType": "float64",
         "type": "float"
        },
        {
         "name": "WeekOfMonthClaimed",
         "rawType": "int64",
         "type": "integer"
        },
        {
         "name": "Sex",
         "rawType": "int32",
         "type": "integer"
        },
        {
         "name": "MaritalStatus",
         "rawType": "float64",
         "type": "float"
        },
        {
         "name": "Fault",
         "rawType": "int32",
         "type": "integer"
        },
        {
         "name": "VehicleCategory",
         "rawType": "float64",
         "type": "float"
        },
        {
         "name": "VehiclePrice",
         "rawType": "float64",
         "type": "float"
        },
        {
         "name": "FraudFound_P",
         "rawType": "int64",
         "type": "integer"
        },
        {
         "name": "Deductible",
         "rawType": "int64",
         "type": "integer"
        },
        {
         "name": "Days_Policy_Accident",
         "rawType": "float64",
         "type": "float"
        },
        {
         "name": "Days_Policy_Claim",
         "rawType": "float64",
         "type": "float"
        },
        {
         "name": "PastNumberOfClaims",
         "rawType": "float64",
         "type": "float"
        },
        {
         "name": "AgeOfVehicle",
         "rawType": "float64",
         "type": "float"
        },
        {
         "name": "AgeOfPolicyHolder",
         "rawType": "float64",
         "type": "float"
        },
        {
         "name": "PoliceReportFiled",
         "rawType": "int32",
         "type": "integer"
        },
        {
         "name": "WitnessPresent",
         "rawType": "int32",
         "type": "integer"
        },
        {
         "name": "AgentType",
         "rawType": "int32",
         "type": "integer"
        },
        {
         "name": "NumberOfSuppliments",
         "rawType": "float64",
         "type": "float"
        },
        {
         "name": "AddressChange_Claim",
         "rawType": "float64",
         "type": "float"
        },
        {
         "name": "NumberOfCars",
         "rawType": "float64",
         "type": "float"
        },
        {
         "name": "BasePolicy",
         "rawType": "float64",
         "type": "float"
        }
       ],
       "ref": "1c009c8b-5ad9-4dd0-bdde-5f78ac24ac6d",
       "rows": [
        [
         "0",
         "11.0",
         "5",
         "2.0",
         "6.0",
         "1",
         "1.0",
         "0.0",
         "1",
         "0",
         "2.0",
         "0",
         "1.0",
         "70000.0",
         "0",
         "300",
         "35.0",
         "35.0",
         "0.0",
         "3.0",
         "28.0",
         "0",
         "0",
         "0",
         "0.0",
         "2.0",
         "3.5",
         "2.0"
        ],
        [
         "1",
         "0.0",
         "3",
         "2.0",
         "6.0",
         "1",
         "0.0",
         "0.0",
         "4",
         "1",
         "2.0",
         "0",
         "1.0",
         "70000.0",
         "0",
         "400",
         "35.0",
         "35.0",
         "0.0",
         "6.0",
         "33.0",
         "1",
         "0",
         "0",
         "0.0",
         "1.0",
         "1.0",
         "1.0"
        ],
        [
         "2",
         "9.0",
         "5",
         "4.0",
         "6.0",
         "1",
         "3.0",
         "10.0",
         "2",
         "1",
         "1.0",
         "0",
         "1.0",
         "70000.0",
         "0",
         "400",
         "35.0",
         "35.0",
         "1.0",
         "7.0",
         "45.5",
         "0",
         "0",
         "0",
         "0.0",
         "1.0",
         "1.0",
         "1.0"
        ],
        [
         "3",
         "5.0",
         "2",
         "5.0",
         "17.0",
         "0",
         "4.0",
         "6.0",
         "1",
         "1",
         "1.0",
         "1",
         "1.0",
         "24500.0",
         "0",
         "400",
         "35.0",
         "35.0",
         "1.0",
         "8.0",
         "58.0",
         "1",
         "0",
         "0",
         "6.0",
         "1.0",
         "1.0",
         "2.0"
        ],
        [
         "4",
         "0.0",
         "5",
         "0.0",
         "6.0",
         "1",
         "1.0",
         "1.0",
         "2",
         "0",
         "2.0",
         "1",
         "1.0",
         "70000.0",
         "0",
         "400",
         "35.0",
         "35.0",
         "0.0",
         "5.0",
         "33.0",
         "0",
         "0",
         "0",
         "0.0",
         "1.0",
         "1.0",
         "1.0"
        ]
       ],
       "shape": {
        "columns": 27,
        "rows": 5
       }
      },
      "text/html": [
       "<div>\n",
       "<style scoped>\n",
       "    .dataframe tbody tr th:only-of-type {\n",
       "        vertical-align: middle;\n",
       "    }\n",
       "\n",
       "    .dataframe tbody tr th {\n",
       "        vertical-align: top;\n",
       "    }\n",
       "\n",
       "    .dataframe thead th {\n",
       "        text-align: right;\n",
       "    }\n",
       "</style>\n",
       "<table border=\"1\" class=\"dataframe\">\n",
       "  <thead>\n",
       "    <tr style=\"text-align: right;\">\n",
       "      <th></th>\n",
       "      <th>Month</th>\n",
       "      <th>WeekOfMonth</th>\n",
       "      <th>DayOfWeek</th>\n",
       "      <th>Make</th>\n",
       "      <th>AccidentArea</th>\n",
       "      <th>DayOfWeekClaimed</th>\n",
       "      <th>MonthClaimed</th>\n",
       "      <th>WeekOfMonthClaimed</th>\n",
       "      <th>Sex</th>\n",
       "      <th>MaritalStatus</th>\n",
       "      <th>...</th>\n",
       "      <th>PastNumberOfClaims</th>\n",
       "      <th>AgeOfVehicle</th>\n",
       "      <th>AgeOfPolicyHolder</th>\n",
       "      <th>PoliceReportFiled</th>\n",
       "      <th>WitnessPresent</th>\n",
       "      <th>AgentType</th>\n",
       "      <th>NumberOfSuppliments</th>\n",
       "      <th>AddressChange_Claim</th>\n",
       "      <th>NumberOfCars</th>\n",
       "      <th>BasePolicy</th>\n",
       "    </tr>\n",
       "  </thead>\n",
       "  <tbody>\n",
       "    <tr>\n",
       "      <th>0</th>\n",
       "      <td>11.0</td>\n",
       "      <td>5</td>\n",
       "      <td>2.0</td>\n",
       "      <td>6.0</td>\n",
       "      <td>1</td>\n",
       "      <td>1.0</td>\n",
       "      <td>0.0</td>\n",
       "      <td>1</td>\n",
       "      <td>0</td>\n",
       "      <td>2.0</td>\n",
       "      <td>...</td>\n",
       "      <td>0.0</td>\n",
       "      <td>3.0</td>\n",
       "      <td>28.0</td>\n",
       "      <td>0</td>\n",
       "      <td>0</td>\n",
       "      <td>0</td>\n",
       "      <td>0.0</td>\n",
       "      <td>2.0</td>\n",
       "      <td>3.5</td>\n",
       "      <td>2.0</td>\n",
       "    </tr>\n",
       "    <tr>\n",
       "      <th>1</th>\n",
       "      <td>0.0</td>\n",
       "      <td>3</td>\n",
       "      <td>2.0</td>\n",
       "      <td>6.0</td>\n",
       "      <td>1</td>\n",
       "      <td>0.0</td>\n",
       "      <td>0.0</td>\n",
       "      <td>4</td>\n",
       "      <td>1</td>\n",
       "      <td>2.0</td>\n",
       "      <td>...</td>\n",
       "      <td>0.0</td>\n",
       "      <td>6.0</td>\n",
       "      <td>33.0</td>\n",
       "      <td>1</td>\n",
       "      <td>0</td>\n",
       "      <td>0</td>\n",
       "      <td>0.0</td>\n",
       "      <td>1.0</td>\n",
       "      <td>1.0</td>\n",
       "      <td>1.0</td>\n",
       "    </tr>\n",
       "    <tr>\n",
       "      <th>2</th>\n",
       "      <td>9.0</td>\n",
       "      <td>5</td>\n",
       "      <td>4.0</td>\n",
       "      <td>6.0</td>\n",
       "      <td>1</td>\n",
       "      <td>3.0</td>\n",
       "      <td>10.0</td>\n",
       "      <td>2</td>\n",
       "      <td>1</td>\n",
       "      <td>1.0</td>\n",
       "      <td>...</td>\n",
       "      <td>1.0</td>\n",
       "      <td>7.0</td>\n",
       "      <td>45.5</td>\n",
       "      <td>0</td>\n",
       "      <td>0</td>\n",
       "      <td>0</td>\n",
       "      <td>0.0</td>\n",
       "      <td>1.0</td>\n",
       "      <td>1.0</td>\n",
       "      <td>1.0</td>\n",
       "    </tr>\n",
       "    <tr>\n",
       "      <th>3</th>\n",
       "      <td>5.0</td>\n",
       "      <td>2</td>\n",
       "      <td>5.0</td>\n",
       "      <td>17.0</td>\n",
       "      <td>0</td>\n",
       "      <td>4.0</td>\n",
       "      <td>6.0</td>\n",
       "      <td>1</td>\n",
       "      <td>1</td>\n",
       "      <td>1.0</td>\n",
       "      <td>...</td>\n",
       "      <td>1.0</td>\n",
       "      <td>8.0</td>\n",
       "      <td>58.0</td>\n",
       "      <td>1</td>\n",
       "      <td>0</td>\n",
       "      <td>0</td>\n",
       "      <td>6.0</td>\n",
       "      <td>1.0</td>\n",
       "      <td>1.0</td>\n",
       "      <td>2.0</td>\n",
       "    </tr>\n",
       "    <tr>\n",
       "      <th>4</th>\n",
       "      <td>0.0</td>\n",
       "      <td>5</td>\n",
       "      <td>0.0</td>\n",
       "      <td>6.0</td>\n",
       "      <td>1</td>\n",
       "      <td>1.0</td>\n",
       "      <td>1.0</td>\n",
       "      <td>2</td>\n",
       "      <td>0</td>\n",
       "      <td>2.0</td>\n",
       "      <td>...</td>\n",
       "      <td>0.0</td>\n",
       "      <td>5.0</td>\n",
       "      <td>33.0</td>\n",
       "      <td>0</td>\n",
       "      <td>0</td>\n",
       "      <td>0</td>\n",
       "      <td>0.0</td>\n",
       "      <td>1.0</td>\n",
       "      <td>1.0</td>\n",
       "      <td>1.0</td>\n",
       "    </tr>\n",
       "  </tbody>\n",
       "</table>\n",
       "<p>5 rows × 27 columns</p>\n",
       "</div>"
      ],
      "text/plain": [
       "   Month  WeekOfMonth  DayOfWeek  Make  AccidentArea  DayOfWeekClaimed  \\\n",
       "0   11.0            5        2.0   6.0             1               1.0   \n",
       "1    0.0            3        2.0   6.0             1               0.0   \n",
       "2    9.0            5        4.0   6.0             1               3.0   \n",
       "3    5.0            2        5.0  17.0             0               4.0   \n",
       "4    0.0            5        0.0   6.0             1               1.0   \n",
       "\n",
       "   MonthClaimed  WeekOfMonthClaimed  Sex  MaritalStatus  ...  \\\n",
       "0           0.0                   1    0            2.0  ...   \n",
       "1           0.0                   4    1            2.0  ...   \n",
       "2          10.0                   2    1            1.0  ...   \n",
       "3           6.0                   1    1            1.0  ...   \n",
       "4           1.0                   2    0            2.0  ...   \n",
       "\n",
       "   PastNumberOfClaims  AgeOfVehicle  AgeOfPolicyHolder  PoliceReportFiled  \\\n",
       "0                 0.0           3.0               28.0                  0   \n",
       "1                 0.0           6.0               33.0                  1   \n",
       "2                 1.0           7.0               45.5                  0   \n",
       "3                 1.0           8.0               58.0                  1   \n",
       "4                 0.0           5.0               33.0                  0   \n",
       "\n",
       "   WitnessPresent  AgentType  NumberOfSuppliments  AddressChange_Claim  \\\n",
       "0               0          0                  0.0                  2.0   \n",
       "1               0          0                  0.0                  1.0   \n",
       "2               0          0                  0.0                  1.0   \n",
       "3               0          0                  6.0                  1.0   \n",
       "4               0          0                  0.0                  1.0   \n",
       "\n",
       "   NumberOfCars  BasePolicy  \n",
       "0           3.5         2.0  \n",
       "1           1.0         1.0  \n",
       "2           1.0         1.0  \n",
       "3           1.0         2.0  \n",
       "4           1.0         1.0  \n",
       "\n",
       "[5 rows x 27 columns]"
      ]
     },
     "execution_count": 9,
     "metadata": {},
     "output_type": "execute_result"
    }
   ],
   "source": [
    "df.head()"
   ]
  },
  {
   "cell_type": "markdown",
   "id": "eb8c526e",
   "metadata": {},
   "source": [
    "# Guardado de dataset preprocesado"
   ]
  },
  {
   "cell_type": "code",
   "execution_count": 10,
   "id": "42e84638",
   "metadata": {},
   "outputs": [],
   "source": [
    "df.to_csv(\"../Data/data_processed.csv\", index=False)"
   ]
  }
 ],
 "metadata": {
  "kernelspec": {
   "display_name": "tfm",
   "language": "python",
   "name": "python3"
  },
  "language_info": {
   "codemirror_mode": {
    "name": "ipython",
    "version": 3
   },
   "file_extension": ".py",
   "mimetype": "text/x-python",
   "name": "python",
   "nbconvert_exporter": "python",
   "pygments_lexer": "ipython3",
   "version": "3.11.13"
  }
 },
 "nbformat": 4,
 "nbformat_minor": 5
}
