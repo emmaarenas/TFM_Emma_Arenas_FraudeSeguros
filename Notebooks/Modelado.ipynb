{
 "cells": [
  {
   "cell_type": "markdown",
   "id": "5544a184",
   "metadata": {},
   "source": [
    "# Importación de librerías"
   ]
  },
  {
   "cell_type": "code",
   "execution_count": 24,
   "id": "01a55b89",
   "metadata": {},
   "outputs": [],
   "source": [
    "import numpy as np\n",
    "import pandas as pd\n",
    "from sklearn.feature_selection import SelectFromModel\n",
    "from sklearn.model_selection import cross_val_score\n",
    "import matplotlib.pyplot as plt\n",
    "import time\n",
    "from sklearn.model_selection import train_test_split, cross_validate, RepeatedStratifiedKFold\n",
    "from sklearn.tree import DecisionTreeClassifier\n",
    "from sklearn.linear_model import LogisticRegression\n",
    "from imblearn.ensemble import BalancedRandomForestClassifier\n",
    "from sklearn import metrics\n",
    "from imblearn.over_sampling import SMOTE\n",
    "from sklearn.model_selection import GridSearchCV\n",
    "from sklearn.ensemble import RandomForestClassifier\n",
    "from xgboost import XGBClassifier\n",
    "from sklearn.metrics import precision_recall_curve, confusion_matrix, classification_report, f1_score\n",
    "import seaborn as sns\n",
    "from sklearn.ensemble import RandomForestClassifier, VotingClassifier\n",
    "from sklearn.metrics import confusion_matrix, classification_report\n",
    "from sklearn.model_selection import StratifiedKFold\n",
    "from sklearn.feature_selection import SelectFromModel\n",
    "from sklearn.base import clone\n",
    "from lightgbm import LGBMClassifier\n",
    "import joblib\n",
    "import json\n",
    "import shap\n",
    "import warnings\n",
    "warnings.simplefilter(action='ignore', category=FutureWarning)"
   ]
  },
  {
   "cell_type": "markdown",
   "id": "6ff4b1b5",
   "metadata": {},
   "source": [
    "# Importación del dataset"
   ]
  },
  {
   "cell_type": "code",
   "execution_count": 2,
   "id": "9e07c023",
   "metadata": {},
   "outputs": [],
   "source": [
    "df = pd.read_csv('../Data/data_processed.csv')"
   ]
  },
  {
   "cell_type": "code",
   "execution_count": 3,
   "id": "a1b4a869",
   "metadata": {},
   "outputs": [
    {
     "name": "stdout",
     "output_type": "stream",
     "text": [
      "<class 'pandas.core.frame.DataFrame'>\n",
      "RangeIndex: 15419 entries, 0 to 15418\n",
      "Data columns (total 27 columns):\n",
      " #   Column                Non-Null Count  Dtype  \n",
      "---  ------                --------------  -----  \n",
      " 0   Month                 15419 non-null  float64\n",
      " 1   WeekOfMonth           15419 non-null  int64  \n",
      " 2   DayOfWeek             15419 non-null  float64\n",
      " 3   Make                  15419 non-null  float64\n",
      " 4   AccidentArea          15419 non-null  int64  \n",
      " 5   DayOfWeekClaimed      15419 non-null  float64\n",
      " 6   MonthClaimed          15419 non-null  float64\n",
      " 7   WeekOfMonthClaimed    15419 non-null  int64  \n",
      " 8   Sex                   15419 non-null  int64  \n",
      " 9   MaritalStatus         15419 non-null  float64\n",
      " 10  Fault                 15419 non-null  int64  \n",
      " 11  VehicleCategory       15419 non-null  float64\n",
      " 12  VehiclePrice          15419 non-null  float64\n",
      " 13  FraudFound_P          15419 non-null  int64  \n",
      " 14  Deductible            15419 non-null  int64  \n",
      " 15  Days_Policy_Accident  15419 non-null  float64\n",
      " 16  Days_Policy_Claim     15419 non-null  float64\n",
      " 17  PastNumberOfClaims    15419 non-null  float64\n",
      " 18  AgeOfVehicle          15419 non-null  float64\n",
      " 19  AgeOfPolicyHolder     15419 non-null  float64\n",
      " 20  PoliceReportFiled     15419 non-null  int64  \n",
      " 21  WitnessPresent        15419 non-null  int64  \n",
      " 22  AgentType             15419 non-null  int64  \n",
      " 23  NumberOfSuppliments   15419 non-null  float64\n",
      " 24  AddressChange_Claim   15419 non-null  float64\n",
      " 25  NumberOfCars          15419 non-null  float64\n",
      " 26  BasePolicy            15419 non-null  float64\n",
      "dtypes: float64(17), int64(10)\n",
      "memory usage: 3.2 MB\n"
     ]
    }
   ],
   "source": [
    "df.info()"
   ]
  },
  {
   "cell_type": "markdown",
   "id": "65dd6b92",
   "metadata": {},
   "source": [
    "# Preparación del train / test"
   ]
  },
  {
   "cell_type": "markdown",
   "id": "38176248",
   "metadata": {},
   "source": [
    "Primero, separación de las **features** y el **target**:"
   ]
  },
  {
   "cell_type": "code",
   "execution_count": 4,
   "id": "b7ec77e4",
   "metadata": {},
   "outputs": [],
   "source": [
    "X = df.drop(\"FraudFound_P\", axis=1)\n",
    "y = df[\"FraudFound_P\"]"
   ]
  },
  {
   "cell_type": "markdown",
   "id": "5bee82a6",
   "metadata": {},
   "source": [
    "Luego, división **train / test** estratificada (80/20):"
   ]
  },
  {
   "cell_type": "code",
   "execution_count": 5,
   "id": "b2477968",
   "metadata": {},
   "outputs": [],
   "source": [
    "X_train, X_test, y_train, y_test = train_test_split(\n",
    "    X,\n",
    "    y,\n",
    "    test_size=0.2,\n",
    "    stratify=y,\n",
    "    random_state=42\n",
    ")"
   ]
  },
  {
   "cell_type": "markdown",
   "id": "8314d08d",
   "metadata": {},
   "source": [
    "# Manejo del desbalance de clases"
   ]
  },
  {
   "cell_type": "markdown",
   "id": "cf7b3c7d",
   "metadata": {},
   "source": [
    "El desequilibrio en las clases es un problema común en los problemas de clasificación, especialmente cuando una clase está subrepresentada en relación con la otra.\n",
    "\n",
    " - El objetivo de **SMOTE** es mejorar la capacidad del modelo para aprender patrones representativos de la clase minoritaria. Para ello, se generan  muestras sintéticas basadas en las instancias de la clase minoritaria, lo que da al modelo más ejemplos de esa clase y evita el sesgo hacia la clase mayoritaria.\n",
    "- Al entrenar un modelo con un conjunto de entrenamiento balanceado, se busca que el modelo sea capaz de generalizar mejor, ya que no estará sobreajustado a la clase mayoritaria.\n"
   ]
  },
  {
   "cell_type": "code",
   "execution_count": 6,
   "id": "0ce6acee",
   "metadata": {},
   "outputs": [],
   "source": [
    "smote = SMOTE(random_state=42)\n",
    "\n",
    "X_train_over, y_train_over = smote.fit_resample(X_train, y_train)"
   ]
  },
  {
   "cell_type": "markdown",
   "id": "e6b7b76a",
   "metadata": {},
   "source": [
    "# Modelado"
   ]
  },
  {
   "cell_type": "markdown",
   "id": "4ea00414",
   "metadata": {},
   "source": [
    "## Comparación inicial entre modelos"
   ]
  },
  {
   "cell_type": "markdown",
   "id": "c50b9946",
   "metadata": {},
   "source": [
    "En el análisis de clasificación, es fundamental comenzar con una **comparación inicial entre modelos** para tener una visión general de cuál de ellos tiene el mejor rendimiento en términos de las métricas de evaluación más relevantes. Esto permite seleccionar los modelos más prometedores para un análisis más profundo y una optimización adicional.\n",
    "\n",
    "Modelos a probar:\n",
    "- **DecisionTreeClassifier**: modelo basado en árboles de decisión, fácil de interpretar, pero puede sobreajustarse con datos complejos.\n",
    "- **RandomForest**: conjunto de árboles de decisión que mejora la precisión y reduce el riesgo de sobreajuste en comparación con un solo árbol de decisión.\n",
    "- **BalancedRandomForestClassifier**: variante de Random Forest diseñada para manejar clases desbalanceadas, al equilibrar las clases durante la construcción de los árboles.\n",
    "- **LogisticRegression**: modelo utilizado comúnmente para clasificación binaria. \n",
    "- **XGBoost**: algoritmo de boosting que ha demostrado ser muy eficaz en muchos problemas de clasificación, conocido por su rendimiento y capacidad para manejar datos desbalanceados.\n",
    "- **LightGBM**: algoritmo basado en árboles de decisión optimizado para eficiencia y velocidad, útil en datasets con muchas variables categóricas como el de este proyecto.\n",
    "\n",
    "Métricas a evaluar:\n",
    "- **Accuracy**: proporción de predicciones correctas sobre el total de predicciones. IMPORTANTE: puede ser engañoso cuando las clases están desbalanceadas.\n",
    "- **Recall (Sensibilidad)**: mide la capacidad del modelo para identificar correctamente las instancias de la clase positiva. Es crucial en problemas donde se necesita identificar todas las instancias de la clase minoritaria (por ejemplo, en detección de fraudes).\n",
    "- **Precision**: indica cuántas de las predicciones positivas del modelo son realmente correctas. Es importante en contextos donde las falsos positivos tienen un gran costo (por ejemplo, en diagnósticos médicos (no es el caso)).\n",
    "- **F1 Score**: media armónica entre **Recall** y **Precision**, que da un balance entre ambas métricas. Es útil cuando se busca un equilibrio entre detectar las instancias positivas y evitar los falsos positivos.\n",
    "- **MCC (Matthews Correlation Coefficient)**: una métrica más robusta que considera todos los aspectos del rendimiento del modelo (verdaderos positivos, falsos positivos, verdaderos negativos y falsos negativos), ideal para conjuntos de datos desbalanceados.\n",
    "\n",
    "La **validación cruzada** es esencial para obtener una evaluación fiable del rendimiento del modelo. Utilizando esta técnica, el conjunto de datos se divide en múltiples subconjuntos o \"folds\", y el modelo se entrena y valida varias veces, utilizando diferentes combinaciones de entrenamiento y validación."
   ]
  },
  {
   "cell_type": "code",
   "execution_count": 7,
   "id": "bcc5d9b0",
   "metadata": {},
   "outputs": [
    {
     "name": "stdout",
     "output_type": "stream",
     "text": [
      "Entrenando: DecisionTree\n",
      "Entrenando: RandomForest\n",
      "Entrenando: BalancedRandomForest\n",
      "Entrenando: LogisticRegression\n"
     ]
    },
    {
     "name": "stderr",
     "output_type": "stream",
     "text": [
      "lbfgs failed to converge (status=1):\n",
      "STOP: TOTAL NO. OF ITERATIONS REACHED LIMIT.\n",
      "\n",
      "Increase the number of iterations (max_iter) or scale the data as shown in:\n",
      "    https://scikit-learn.org/stable/modules/preprocessing.html\n",
      "Please also refer to the documentation for alternative solver options:\n",
      "    https://scikit-learn.org/stable/modules/linear_model.html#logistic-regression\n",
      "lbfgs failed to converge (status=1):\n",
      "STOP: TOTAL NO. OF ITERATIONS REACHED LIMIT.\n",
      "\n",
      "Increase the number of iterations (max_iter) or scale the data as shown in:\n",
      "    https://scikit-learn.org/stable/modules/preprocessing.html\n",
      "Please also refer to the documentation for alternative solver options:\n",
      "    https://scikit-learn.org/stable/modules/linear_model.html#logistic-regression\n"
     ]
    },
    {
     "name": "stdout",
     "output_type": "stream",
     "text": [
      "Entrenando: XGBoost\n"
     ]
    },
    {
     "name": "stderr",
     "output_type": "stream",
     "text": [
      "[11:32:23] WARNING: C:\\actions-runner\\_work\\xgboost\\xgboost\\src\\learner.cc:738: \n",
      "Parameters: { \"use_label_encoder\" } are not used.\n",
      "\n",
      "[11:32:23] WARNING: C:\\actions-runner\\_work\\xgboost\\xgboost\\src\\learner.cc:738: \n",
      "Parameters: { \"use_label_encoder\" } are not used.\n",
      "\n",
      "[11:32:23] WARNING: C:\\actions-runner\\_work\\xgboost\\xgboost\\src\\learner.cc:738: \n",
      "Parameters: { \"use_label_encoder\" } are not used.\n",
      "\n",
      "[11:32:23] WARNING: C:\\actions-runner\\_work\\xgboost\\xgboost\\src\\learner.cc:738: \n",
      "Parameters: { \"use_label_encoder\" } are not used.\n",
      "\n",
      "[11:32:23] WARNING: C:\\actions-runner\\_work\\xgboost\\xgboost\\src\\learner.cc:738: \n",
      "Parameters: { \"use_label_encoder\" } are not used.\n",
      "\n",
      "[11:32:24] WARNING: C:\\actions-runner\\_work\\xgboost\\xgboost\\src\\learner.cc:738: \n",
      "Parameters: { \"use_label_encoder\" } are not used.\n",
      "\n",
      "[11:32:24] WARNING: C:\\actions-runner\\_work\\xgboost\\xgboost\\src\\learner.cc:738: \n",
      "Parameters: { \"use_label_encoder\" } are not used.\n",
      "\n",
      "[11:32:24] WARNING: C:\\actions-runner\\_work\\xgboost\\xgboost\\src\\learner.cc:738: \n",
      "Parameters: { \"use_label_encoder\" } are not used.\n",
      "\n",
      "[11:32:24] WARNING: C:\\actions-runner\\_work\\xgboost\\xgboost\\src\\learner.cc:738: \n",
      "Parameters: { \"use_label_encoder\" } are not used.\n",
      "\n",
      "[11:32:24] WARNING: C:\\actions-runner\\_work\\xgboost\\xgboost\\src\\learner.cc:738: \n",
      "Parameters: { \"use_label_encoder\" } are not used.\n",
      "\n",
      "[11:32:24] WARNING: C:\\actions-runner\\_work\\xgboost\\xgboost\\src\\learner.cc:738: \n",
      "Parameters: { \"use_label_encoder\" } are not used.\n",
      "\n",
      "[11:32:24] WARNING: C:\\actions-runner\\_work\\xgboost\\xgboost\\src\\learner.cc:738: \n",
      "Parameters: { \"use_label_encoder\" } are not used.\n",
      "\n",
      "[11:32:24] WARNING: C:\\actions-runner\\_work\\xgboost\\xgboost\\src\\learner.cc:738: \n",
      "Parameters: { \"use_label_encoder\" } are not used.\n",
      "\n",
      "[11:32:24] WARNING: C:\\actions-runner\\_work\\xgboost\\xgboost\\src\\learner.cc:738: \n",
      "Parameters: { \"use_label_encoder\" } are not used.\n",
      "\n",
      "[11:32:24] WARNING: C:\\actions-runner\\_work\\xgboost\\xgboost\\src\\learner.cc:738: \n",
      "Parameters: { \"use_label_encoder\" } are not used.\n",
      "\n",
      "[11:32:24] WARNING: C:\\actions-runner\\_work\\xgboost\\xgboost\\src\\learner.cc:738: \n",
      "Parameters: { \"use_label_encoder\" } are not used.\n",
      "\n",
      "[11:32:25] WARNING: C:\\actions-runner\\_work\\xgboost\\xgboost\\src\\learner.cc:738: \n",
      "Parameters: { \"use_label_encoder\" } are not used.\n",
      "\n",
      "[11:32:25] WARNING: C:\\actions-runner\\_work\\xgboost\\xgboost\\src\\learner.cc:738: \n",
      "Parameters: { \"use_label_encoder\" } are not used.\n",
      "\n",
      "[11:32:25] WARNING: C:\\actions-runner\\_work\\xgboost\\xgboost\\src\\learner.cc:738: \n",
      "Parameters: { \"use_label_encoder\" } are not used.\n",
      "\n",
      "[11:32:25] WARNING: C:\\actions-runner\\_work\\xgboost\\xgboost\\src\\learner.cc:738: \n",
      "Parameters: { \"use_label_encoder\" } are not used.\n",
      "\n",
      "[11:32:25] WARNING: C:\\actions-runner\\_work\\xgboost\\xgboost\\src\\learner.cc:738: \n",
      "Parameters: { \"use_label_encoder\" } are not used.\n",
      "\n",
      "[11:32:25] WARNING: C:\\actions-runner\\_work\\xgboost\\xgboost\\src\\learner.cc:738: \n",
      "Parameters: { \"use_label_encoder\" } are not used.\n",
      "\n",
      "[11:32:25] WARNING: C:\\actions-runner\\_work\\xgboost\\xgboost\\src\\learner.cc:738: \n",
      "Parameters: { \"use_label_encoder\" } are not used.\n",
      "\n",
      "[11:32:25] WARNING: C:\\actions-runner\\_work\\xgboost\\xgboost\\src\\learner.cc:738: \n",
      "Parameters: { \"use_label_encoder\" } are not used.\n",
      "\n",
      "[11:32:25] WARNING: C:\\actions-runner\\_work\\xgboost\\xgboost\\src\\learner.cc:738: \n",
      "Parameters: { \"use_label_encoder\" } are not used.\n",
      "\n",
      "[11:32:25] WARNING: C:\\actions-runner\\_work\\xgboost\\xgboost\\src\\learner.cc:738: \n",
      "Parameters: { \"use_label_encoder\" } are not used.\n",
      "\n",
      "[11:32:26] WARNING: C:\\actions-runner\\_work\\xgboost\\xgboost\\src\\learner.cc:738: \n",
      "Parameters: { \"use_label_encoder\" } are not used.\n",
      "\n",
      "[11:32:26] WARNING: C:\\actions-runner\\_work\\xgboost\\xgboost\\src\\learner.cc:738: \n",
      "Parameters: { \"use_label_encoder\" } are not used.\n",
      "\n",
      "[11:32:26] WARNING: C:\\actions-runner\\_work\\xgboost\\xgboost\\src\\learner.cc:738: \n",
      "Parameters: { \"use_label_encoder\" } are not used.\n",
      "\n",
      "[11:32:26] WARNING: C:\\actions-runner\\_work\\xgboost\\xgboost\\src\\learner.cc:738: \n",
      "Parameters: { \"use_label_encoder\" } are not used.\n",
      "\n",
      "[11:32:26] WARNING: C:\\actions-runner\\_work\\xgboost\\xgboost\\src\\learner.cc:738: \n",
      "Parameters: { \"use_label_encoder\" } are not used.\n",
      "\n"
     ]
    },
    {
     "name": "stdout",
     "output_type": "stream",
     "text": [
      "Entrenando: LightGBM\n",
      "[LightGBM] [Info] Number of positive: 11597, number of negative: 11597\n",
      "[LightGBM] [Info] Auto-choosing col-wise multi-threading, the overhead of testing was 0.001569 seconds.\n",
      "You can set `force_col_wise=true` to remove the overhead.\n",
      "[LightGBM] [Info] Total Bins 3748\n",
      "[LightGBM] [Info] Number of data points in the train set: 23194, number of used features: 26\n",
      "[LightGBM] [Info] [binary:BoostFromScore]: pavg=0.500000 -> initscore=0.000000\n",
      "[LightGBM] [Info] Number of positive: 10437, number of negative: 10437\n",
      "[LightGBM] [Info] Auto-choosing row-wise multi-threading, the overhead of testing was 0.000841 seconds.\n",
      "You can set `force_row_wise=true` to remove the overhead.\n",
      "And if memory is not enough, you can set `force_col_wise=true`.\n",
      "[LightGBM] [Info] Total Bins 3735\n",
      "[LightGBM] [Info] Number of data points in the train set: 20874, number of used features: 26\n",
      "[LightGBM] [Info] [binary:BoostFromScore]: pavg=0.500000 -> initscore=0.000000\n",
      "[LightGBM] [Info] Number of positive: 10437, number of negative: 10437\n",
      "[LightGBM] [Info] Auto-choosing row-wise multi-threading, the overhead of testing was 0.000762 seconds.\n",
      "You can set `force_row_wise=true` to remove the overhead.\n",
      "And if memory is not enough, you can set `force_col_wise=true`.\n",
      "[LightGBM] [Info] Total Bins 3733\n",
      "[LightGBM] [Info] Number of data points in the train set: 20874, number of used features: 26\n",
      "[LightGBM] [Info] [binary:BoostFromScore]: pavg=0.500000 -> initscore=0.000000\n",
      "[LightGBM] [Info] Number of positive: 10437, number of negative: 10437\n",
      "[LightGBM] [Info] Auto-choosing row-wise multi-threading, the overhead of testing was 0.000794 seconds.\n",
      "You can set `force_row_wise=true` to remove the overhead.\n",
      "And if memory is not enough, you can set `force_col_wise=true`.\n",
      "[LightGBM] [Info] Total Bins 3731\n",
      "[LightGBM] [Info] Number of data points in the train set: 20874, number of used features: 26\n",
      "[LightGBM] [Info] [binary:BoostFromScore]: pavg=0.500000 -> initscore=0.000000\n",
      "[LightGBM] [Info] Number of positive: 10437, number of negative: 10437\n",
      "[LightGBM] [Info] Auto-choosing row-wise multi-threading, the overhead of testing was 0.000842 seconds.\n",
      "You can set `force_row_wise=true` to remove the overhead.\n",
      "And if memory is not enough, you can set `force_col_wise=true`.\n",
      "[LightGBM] [Info] Total Bins 3738\n",
      "[LightGBM] [Info] Number of data points in the train set: 20874, number of used features: 26\n",
      "[LightGBM] [Info] [binary:BoostFromScore]: pavg=0.500000 -> initscore=0.000000\n",
      "[LightGBM] [Info] Number of positive: 10437, number of negative: 10438\n",
      "[LightGBM] [Info] Auto-choosing row-wise multi-threading, the overhead of testing was 0.000750 seconds.\n",
      "You can set `force_row_wise=true` to remove the overhead.\n",
      "And if memory is not enough, you can set `force_col_wise=true`.\n",
      "[LightGBM] [Info] Total Bins 3734\n",
      "[LightGBM] [Info] Number of data points in the train set: 20875, number of used features: 26\n",
      "[LightGBM] [Info] [binary:BoostFromScore]: pavg=0.499976 -> initscore=-0.000096\n",
      "[LightGBM] [Info] Start training from score -0.000096\n",
      "[LightGBM] [Info] Number of positive: 10437, number of negative: 10438\n",
      "[LightGBM] [Info] Auto-choosing row-wise multi-threading, the overhead of testing was 0.000889 seconds.\n",
      "You can set `force_row_wise=true` to remove the overhead.\n",
      "And if memory is not enough, you can set `force_col_wise=true`.\n",
      "[LightGBM] [Info] Total Bins 3737\n",
      "[LightGBM] [Info] Number of data points in the train set: 20875, number of used features: 26\n",
      "[LightGBM] [Info] [binary:BoostFromScore]: pavg=0.499976 -> initscore=-0.000096\n",
      "[LightGBM] [Info] Start training from score -0.000096\n",
      "[LightGBM] [Info] Number of positive: 10437, number of negative: 10438\n",
      "[LightGBM] [Info] Auto-choosing row-wise multi-threading, the overhead of testing was 0.000778 seconds.\n",
      "You can set `force_row_wise=true` to remove the overhead.\n",
      "And if memory is not enough, you can set `force_col_wise=true`.\n",
      "[LightGBM] [Info] Total Bins 3733\n",
      "[LightGBM] [Info] Number of data points in the train set: 20875, number of used features: 26\n",
      "[LightGBM] [Info] [binary:BoostFromScore]: pavg=0.499976 -> initscore=-0.000096\n",
      "[LightGBM] [Info] Start training from score -0.000096\n",
      "[LightGBM] [Info] Number of positive: 10438, number of negative: 10437\n",
      "[LightGBM] [Info] Auto-choosing row-wise multi-threading, the overhead of testing was 0.000857 seconds.\n",
      "You can set `force_row_wise=true` to remove the overhead.\n",
      "And if memory is not enough, you can set `force_col_wise=true`.\n",
      "[LightGBM] [Info] Total Bins 3734\n",
      "[LightGBM] [Info] Number of data points in the train set: 20875, number of used features: 26\n",
      "[LightGBM] [Info] [binary:BoostFromScore]: pavg=0.500024 -> initscore=0.000096\n",
      "[LightGBM] [Info] Start training from score 0.000096\n",
      "[LightGBM] [Info] Number of positive: 10438, number of negative: 10437\n",
      "[LightGBM] [Info] Auto-choosing row-wise multi-threading, the overhead of testing was 0.000731 seconds.\n",
      "You can set `force_row_wise=true` to remove the overhead.\n",
      "And if memory is not enough, you can set `force_col_wise=true`.\n",
      "[LightGBM] [Info] Total Bins 3734\n",
      "[LightGBM] [Info] Number of data points in the train set: 20875, number of used features: 26\n",
      "[LightGBM] [Info] [binary:BoostFromScore]: pavg=0.500024 -> initscore=0.000096\n",
      "[LightGBM] [Info] Start training from score 0.000096\n",
      "[LightGBM] [Info] Number of positive: 10438, number of negative: 10437\n",
      "[LightGBM] [Info] Auto-choosing row-wise multi-threading, the overhead of testing was 0.000890 seconds.\n",
      "You can set `force_row_wise=true` to remove the overhead.\n",
      "And if memory is not enough, you can set `force_col_wise=true`.\n",
      "[LightGBM] [Info] Total Bins 3730\n",
      "[LightGBM] [Info] Number of data points in the train set: 20875, number of used features: 26\n",
      "[LightGBM] [Info] [binary:BoostFromScore]: pavg=0.500024 -> initscore=0.000096\n",
      "[LightGBM] [Info] Start training from score 0.000096\n",
      "[LightGBM] [Info] Number of positive: 10437, number of negative: 10437\n",
      "[LightGBM] [Info] Auto-choosing row-wise multi-threading, the overhead of testing was 0.000819 seconds.\n",
      "You can set `force_row_wise=true` to remove the overhead.\n",
      "And if memory is not enough, you can set `force_col_wise=true`.\n",
      "[LightGBM] [Info] Total Bins 3730\n",
      "[LightGBM] [Info] Number of data points in the train set: 20874, number of used features: 26\n",
      "[LightGBM] [Info] [binary:BoostFromScore]: pavg=0.500000 -> initscore=0.000000\n",
      "[LightGBM] [Info] Number of positive: 10437, number of negative: 10437\n",
      "[LightGBM] [Info] Auto-choosing row-wise multi-threading, the overhead of testing was 0.000810 seconds.\n",
      "You can set `force_row_wise=true` to remove the overhead.\n",
      "And if memory is not enough, you can set `force_col_wise=true`.\n",
      "[LightGBM] [Info] Total Bins 3740\n",
      "[LightGBM] [Info] Number of data points in the train set: 20874, number of used features: 26\n",
      "[LightGBM] [Info] [binary:BoostFromScore]: pavg=0.500000 -> initscore=0.000000\n",
      "[LightGBM] [Info] Number of positive: 10437, number of negative: 10437\n",
      "[LightGBM] [Info] Auto-choosing row-wise multi-threading, the overhead of testing was 0.000739 seconds.\n",
      "You can set `force_row_wise=true` to remove the overhead.\n",
      "And if memory is not enough, you can set `force_col_wise=true`.\n",
      "[LightGBM] [Info] Total Bins 3732\n",
      "[LightGBM] [Info] Number of data points in the train set: 20874, number of used features: 26\n",
      "[LightGBM] [Info] [binary:BoostFromScore]: pavg=0.500000 -> initscore=0.000000\n",
      "[LightGBM] [Info] Number of positive: 10437, number of negative: 10437\n",
      "[LightGBM] [Info] Auto-choosing row-wise multi-threading, the overhead of testing was 0.000805 seconds.\n",
      "You can set `force_row_wise=true` to remove the overhead.\n",
      "And if memory is not enough, you can set `force_col_wise=true`.\n",
      "[LightGBM] [Info] Total Bins 3735\n",
      "[LightGBM] [Info] Number of data points in the train set: 20874, number of used features: 26\n",
      "[LightGBM] [Info] [binary:BoostFromScore]: pavg=0.500000 -> initscore=0.000000\n",
      "[LightGBM] [Info] Number of positive: 10437, number of negative: 10438\n",
      "[LightGBM] [Info] Auto-choosing row-wise multi-threading, the overhead of testing was 0.000738 seconds.\n",
      "You can set `force_row_wise=true` to remove the overhead.\n",
      "And if memory is not enough, you can set `force_col_wise=true`.\n",
      "[LightGBM] [Info] Total Bins 3731\n",
      "[LightGBM] [Info] Number of data points in the train set: 20875, number of used features: 26\n",
      "[LightGBM] [Info] [binary:BoostFromScore]: pavg=0.499976 -> initscore=-0.000096\n",
      "[LightGBM] [Info] Start training from score -0.000096\n",
      "[LightGBM] [Info] Number of positive: 10437, number of negative: 10438\n",
      "[LightGBM] [Info] Auto-choosing row-wise multi-threading, the overhead of testing was 0.000865 seconds.\n",
      "You can set `force_row_wise=true` to remove the overhead.\n",
      "And if memory is not enough, you can set `force_col_wise=true`.\n",
      "[LightGBM] [Info] Total Bins 3731\n",
      "[LightGBM] [Info] Number of data points in the train set: 20875, number of used features: 26\n",
      "[LightGBM] [Info] [binary:BoostFromScore]: pavg=0.499976 -> initscore=-0.000096\n",
      "[LightGBM] [Info] Start training from score -0.000096\n",
      "[LightGBM] [Info] Number of positive: 10437, number of negative: 10438\n",
      "[LightGBM] [Info] Auto-choosing row-wise multi-threading, the overhead of testing was 0.000848 seconds.\n",
      "You can set `force_row_wise=true` to remove the overhead.\n",
      "And if memory is not enough, you can set `force_col_wise=true`.\n",
      "[LightGBM] [Info] Total Bins 3732\n",
      "[LightGBM] [Info] Number of data points in the train set: 20875, number of used features: 26\n",
      "[LightGBM] [Info] [binary:BoostFromScore]: pavg=0.499976 -> initscore=-0.000096\n",
      "[LightGBM] [Info] Start training from score -0.000096\n",
      "[LightGBM] [Info] Number of positive: 10438, number of negative: 10437\n",
      "[LightGBM] [Info] Auto-choosing row-wise multi-threading, the overhead of testing was 0.000784 seconds.\n",
      "You can set `force_row_wise=true` to remove the overhead.\n",
      "And if memory is not enough, you can set `force_col_wise=true`.\n",
      "[LightGBM] [Info] Total Bins 3731\n",
      "[LightGBM] [Info] Number of data points in the train set: 20875, number of used features: 26\n",
      "[LightGBM] [Info] [binary:BoostFromScore]: pavg=0.500024 -> initscore=0.000096\n",
      "[LightGBM] [Info] Start training from score 0.000096\n",
      "[LightGBM] [Info] Number of positive: 10438, number of negative: 10437\n",
      "[LightGBM] [Info] Auto-choosing row-wise multi-threading, the overhead of testing was 0.000811 seconds.\n",
      "You can set `force_row_wise=true` to remove the overhead.\n",
      "And if memory is not enough, you can set `force_col_wise=true`.\n",
      "[LightGBM] [Info] Total Bins 3736\n",
      "[LightGBM] [Info] Number of data points in the train set: 20875, number of used features: 26\n",
      "[LightGBM] [Info] [binary:BoostFromScore]: pavg=0.500024 -> initscore=0.000096\n",
      "[LightGBM] [Info] Start training from score 0.000096\n",
      "[LightGBM] [Info] Number of positive: 10438, number of negative: 10437\n",
      "[LightGBM] [Info] Auto-choosing row-wise multi-threading, the overhead of testing was 0.000779 seconds.\n",
      "You can set `force_row_wise=true` to remove the overhead.\n",
      "And if memory is not enough, you can set `force_col_wise=true`.\n",
      "[LightGBM] [Info] Total Bins 3737\n",
      "[LightGBM] [Info] Number of data points in the train set: 20875, number of used features: 26\n",
      "[LightGBM] [Info] [binary:BoostFromScore]: pavg=0.500024 -> initscore=0.000096\n",
      "[LightGBM] [Info] Start training from score 0.000096\n",
      "[LightGBM] [Info] Number of positive: 10437, number of negative: 10437\n",
      "[LightGBM] [Info] Auto-choosing row-wise multi-threading, the overhead of testing was 0.000862 seconds.\n",
      "You can set `force_row_wise=true` to remove the overhead.\n",
      "And if memory is not enough, you can set `force_col_wise=true`.\n",
      "[LightGBM] [Info] Total Bins 3732\n",
      "[LightGBM] [Info] Number of data points in the train set: 20874, number of used features: 26\n",
      "[LightGBM] [Info] [binary:BoostFromScore]: pavg=0.500000 -> initscore=0.000000\n",
      "[LightGBM] [Info] Number of positive: 10437, number of negative: 10437\n",
      "[LightGBM] [Info] Auto-choosing row-wise multi-threading, the overhead of testing was 0.000765 seconds.\n",
      "You can set `force_row_wise=true` to remove the overhead.\n",
      "And if memory is not enough, you can set `force_col_wise=true`.\n",
      "[LightGBM] [Info] Total Bins 3736\n",
      "[LightGBM] [Info] Number of data points in the train set: 20874, number of used features: 26\n",
      "[LightGBM] [Info] [binary:BoostFromScore]: pavg=0.500000 -> initscore=0.000000\n",
      "[LightGBM] [Info] Number of positive: 10437, number of negative: 10437\n",
      "[LightGBM] [Info] Auto-choosing row-wise multi-threading, the overhead of testing was 0.000889 seconds.\n",
      "You can set `force_row_wise=true` to remove the overhead.\n",
      "And if memory is not enough, you can set `force_col_wise=true`.\n",
      "[LightGBM] [Info] Total Bins 3730\n",
      "[LightGBM] [Info] Number of data points in the train set: 20874, number of used features: 26\n",
      "[LightGBM] [Info] [binary:BoostFromScore]: pavg=0.500000 -> initscore=0.000000\n",
      "[LightGBM] [Info] Number of positive: 10437, number of negative: 10437\n",
      "[LightGBM] [Info] Auto-choosing row-wise multi-threading, the overhead of testing was 0.000866 seconds.\n",
      "You can set `force_row_wise=true` to remove the overhead.\n",
      "And if memory is not enough, you can set `force_col_wise=true`.\n",
      "[LightGBM] [Info] Total Bins 3738\n",
      "[LightGBM] [Info] Number of data points in the train set: 20874, number of used features: 26\n",
      "[LightGBM] [Info] [binary:BoostFromScore]: pavg=0.500000 -> initscore=0.000000\n",
      "[LightGBM] [Info] Number of positive: 10437, number of negative: 10438\n",
      "[LightGBM] [Info] Auto-choosing row-wise multi-threading, the overhead of testing was 0.000726 seconds.\n",
      "You can set `force_row_wise=true` to remove the overhead.\n",
      "And if memory is not enough, you can set `force_col_wise=true`.\n",
      "[LightGBM] [Info] Total Bins 3735\n",
      "[LightGBM] [Info] Number of data points in the train set: 20875, number of used features: 26\n",
      "[LightGBM] [Info] [binary:BoostFromScore]: pavg=0.499976 -> initscore=-0.000096\n",
      "[LightGBM] [Info] Start training from score -0.000096\n",
      "[LightGBM] [Info] Number of positive: 10437, number of negative: 10438\n",
      "[LightGBM] [Info] Auto-choosing row-wise multi-threading, the overhead of testing was 0.000743 seconds.\n",
      "You can set `force_row_wise=true` to remove the overhead.\n",
      "And if memory is not enough, you can set `force_col_wise=true`.\n",
      "[LightGBM] [Info] Total Bins 3735\n",
      "[LightGBM] [Info] Number of data points in the train set: 20875, number of used features: 26\n",
      "[LightGBM] [Info] [binary:BoostFromScore]: pavg=0.499976 -> initscore=-0.000096\n",
      "[LightGBM] [Info] Start training from score -0.000096\n",
      "[LightGBM] [Info] Number of positive: 10437, number of negative: 10438\n",
      "[LightGBM] [Info] Auto-choosing row-wise multi-threading, the overhead of testing was 0.000759 seconds.\n",
      "You can set `force_row_wise=true` to remove the overhead.\n",
      "And if memory is not enough, you can set `force_col_wise=true`.\n",
      "[LightGBM] [Info] Total Bins 3735\n",
      "[LightGBM] [Info] Number of data points in the train set: 20875, number of used features: 26\n",
      "[LightGBM] [Info] [binary:BoostFromScore]: pavg=0.499976 -> initscore=-0.000096\n",
      "[LightGBM] [Info] Start training from score -0.000096\n",
      "[LightGBM] [Info] Number of positive: 10438, number of negative: 10437\n",
      "[LightGBM] [Info] Auto-choosing row-wise multi-threading, the overhead of testing was 0.000735 seconds.\n",
      "You can set `force_row_wise=true` to remove the overhead.\n",
      "And if memory is not enough, you can set `force_col_wise=true`.\n",
      "[LightGBM] [Info] Total Bins 3732\n",
      "[LightGBM] [Info] Number of data points in the train set: 20875, number of used features: 26\n",
      "[LightGBM] [Info] [binary:BoostFromScore]: pavg=0.500024 -> initscore=0.000096\n",
      "[LightGBM] [Info] Start training from score 0.000096\n",
      "[LightGBM] [Info] Number of positive: 10438, number of negative: 10437\n",
      "[LightGBM] [Info] Auto-choosing row-wise multi-threading, the overhead of testing was 0.000783 seconds.\n",
      "You can set `force_row_wise=true` to remove the overhead.\n",
      "And if memory is not enough, you can set `force_col_wise=true`.\n",
      "[LightGBM] [Info] Total Bins 3737\n",
      "[LightGBM] [Info] Number of data points in the train set: 20875, number of used features: 26\n",
      "[LightGBM] [Info] [binary:BoostFromScore]: pavg=0.500024 -> initscore=0.000096\n",
      "[LightGBM] [Info] Start training from score 0.000096\n",
      "[LightGBM] [Info] Number of positive: 10438, number of negative: 10437\n",
      "[LightGBM] [Info] Auto-choosing row-wise multi-threading, the overhead of testing was 0.000815 seconds.\n",
      "You can set `force_row_wise=true` to remove the overhead.\n",
      "And if memory is not enough, you can set `force_col_wise=true`.\n",
      "[LightGBM] [Info] Total Bins 3729\n",
      "[LightGBM] [Info] Number of data points in the train set: 20875, number of used features: 26\n",
      "[LightGBM] [Info] [binary:BoostFromScore]: pavg=0.500024 -> initscore=0.000096\n",
      "[LightGBM] [Info] Start training from score 0.000096\n"
     ]
    }
   ],
   "source": [
    "# Clasificadores\n",
    "classifiers = {\n",
    "    'DecisionTree': DecisionTreeClassifier(random_state=42),\n",
    "    'RandomForest': RandomForestClassifier(random_state=42),\n",
    "    'BalancedRandomForest': BalancedRandomForestClassifier(n_estimators=150, random_state=42),\n",
    "    'LogisticRegression': LogisticRegression(max_iter=1000, random_state=42),\n",
    "    'XGBoost': XGBClassifier(use_label_encoder=False, objective='binary:logistic', eval_metric='aucpr', random_state=42),\n",
    "    'LightGBM': LGBMClassifier(random_state=42)\n",
    "}\n",
    "\n",
    "# Métricas\n",
    "scorer = {\n",
    "    'accuracy': metrics.make_scorer(metrics.accuracy_score),\n",
    "    'recall': metrics.make_scorer(metrics.recall_score),\n",
    "    'precision': metrics.make_scorer(metrics.precision_score),\n",
    "    'f1': metrics.make_scorer(metrics.f1_score),\n",
    "    'mcc': metrics.make_scorer(metrics.matthews_corrcoef),\n",
    "    'roc_auc': metrics.make_scorer(metrics.roc_auc_score)\n",
    "}\n",
    "\n",
    "# Validación cruzada y evaluación\n",
    "results = []\n",
    "\n",
    "cvs = RepeatedStratifiedKFold(n_splits=10, n_repeats=3, random_state=42)\n",
    "\n",
    "for name, clf in classifiers.items():\n",
    "    print(f\"Entrenando: {name}\")\n",
    "    start = time.time()\n",
    "    \n",
    "    model = clf.fit(X_train_over, y_train_over)\n",
    "    \n",
    "    # Cross-validation sobre entrenamiento\n",
    "    cv_scores = cross_validate(model, X_train_over, y_train_over, cv=cvs, scoring=scorer)\n",
    "\n",
    "    # Evaluación sobre test\n",
    "    y_pred = model.predict(X_test)\n",
    "\n",
    "    row = {\n",
    "        'model': name,\n",
    "        'run_time_min': round((time.time() - start)/60, 2),\n",
    "        'test_accuracy': metrics.accuracy_score(y_test, y_pred),\n",
    "        'test_recall': metrics.recall_score(y_test, y_pred),\n",
    "        'test_precision': metrics.precision_score(y_test, y_pred, zero_division=0),\n",
    "        'test_f1': metrics.f1_score(y_test, y_pred),\n",
    "        'test_mcc': metrics.matthews_corrcoef(y_test, y_pred),\n",
    "        'test_roc_auc': metrics.roc_auc_score(y_test, y_pred),\n",
    "        'cv_accuracy_mean': cv_scores['test_accuracy'].mean(),\n",
    "        'cv_recall_mean': cv_scores['test_recall'].mean(),\n",
    "        'cv_precision_mean': cv_scores['test_precision'].mean(),\n",
    "        'cv_f1_mean': cv_scores['test_f1'].mean(),\n",
    "        'cv_mcc_mean': cv_scores['test_mcc'].mean(),\n",
    "        'cv_roc_auc_mean': cv_scores['test_roc_auc'].mean()\n",
    "    }\n",
    "    \n",
    "    results.append(row)\n",
    "\n",
    "df_results = pd.DataFrame(results)\n"
   ]
  },
  {
   "cell_type": "code",
   "execution_count": 8,
   "id": "14f4c7ab",
   "metadata": {},
   "outputs": [
    {
     "data": {
      "application/vnd.microsoft.datawrangler.viewer.v0+json": {
       "columns": [
        {
         "name": "index",
         "rawType": "int64",
         "type": "integer"
        },
        {
         "name": "model",
         "rawType": "object",
         "type": "string"
        },
        {
         "name": "run_time_min",
         "rawType": "float64",
         "type": "float"
        },
        {
         "name": "test_accuracy",
         "rawType": "float64",
         "type": "float"
        },
        {
         "name": "test_recall",
         "rawType": "float64",
         "type": "float"
        },
        {
         "name": "test_precision",
         "rawType": "float64",
         "type": "float"
        },
        {
         "name": "test_f1",
         "rawType": "float64",
         "type": "float"
        },
        {
         "name": "test_mcc",
         "rawType": "float64",
         "type": "float"
        },
        {
         "name": "test_roc_auc",
         "rawType": "float64",
         "type": "float"
        },
        {
         "name": "cv_accuracy_mean",
         "rawType": "float64",
         "type": "float"
        },
        {
         "name": "cv_recall_mean",
         "rawType": "float64",
         "type": "float"
        },
        {
         "name": "cv_precision_mean",
         "rawType": "float64",
         "type": "float"
        },
        {
         "name": "cv_f1_mean",
         "rawType": "float64",
         "type": "float"
        },
        {
         "name": "cv_mcc_mean",
         "rawType": "float64",
         "type": "float"
        },
        {
         "name": "cv_roc_auc_mean",
         "rawType": "float64",
         "type": "float"
        }
       ],
       "ref": "0288823f-50e1-47f7-9408-d53e2a5abd3d",
       "rows": [
        [
         "0",
         "DecisionTree",
         "0.08",
         "0.8871595330739299",
         "0.20540540540540542",
         "0.1589958158995816",
         "0.17924528301886794",
         "0.12084702079171183",
         "0.5680355761073249",
         "0.9380876120801177",
         "0.9479748197514702",
         "0.929661463391383",
         "0.9387034598372697",
         "0.8763950138548104",
         "0.9380880887209545"
        ],
        [
         "1",
         "RandomForest",
         "1.97",
         "0.9390402075226978",
         "0.04864864864864865",
         "0.42857142857142855",
         "0.08737864077669903",
         "0.12852200589181492",
         "0.5222546451246003",
         "0.9719610674934201",
         "0.9494120476431326",
         "0.9942624427794293",
         "0.9713095840949906",
         "0.9449009639920756",
         "0.9719611263177729"
        ],
        [
         "2",
         "BalancedRandomForest",
         "3.14",
         "0.9383916990920882",
         "0.043243243243243246",
         "0.38095238095238093",
         "0.07766990291262135",
         "0.11191767988241617",
         "0.5193794691552539",
         "0.972305969427964",
         "0.9495844862297065",
         "0.9948015718613715",
         "0.9716566156747253",
         "0.945606838219791",
         "0.972305904317039"
        ],
        [
         "3",
         "LogisticRegression",
         "0.14",
         "0.622568093385214",
         "0.5513513513513514",
         "0.08622147083685545",
         "0.14912280701754385",
         "0.08715203377081508",
         "0.5892320744338682",
         "0.684300698130883",
         "0.7026775956284154",
         "0.6761652767297158",
         "0.6888469283361406",
         "0.3692126952276622",
         "0.6842991009887637"
        ],
        [
         "4",
         "XGBoost",
         "0.05",
         "0.9396887159533074",
         "0.08108108108108109",
         "0.4838709677419355",
         "0.13888888888888887",
         "0.179874169837146",
         "0.5377809682742418",
         "0.967620865612903",
         "0.9421400236033839",
         "0.9927390262819216",
         "0.9667683530850657",
         "0.9364743309315808",
         "0.9676208681681592"
        ],
        [
         "5",
         "LightGBM",
         "0.06",
         "0.9413099870298314",
         "0.043243243243243246",
         "0.6666666666666666",
         "0.08121827411167513",
         "0.15967753990157402",
         "0.520931728555047",
         "0.9691586618290682",
         "0.9413064671288169",
         "0.9968362692500706",
         "0.968266987663927",
         "0.9397904193651787",
         "0.9691586211855248"
        ]
       ],
       "shape": {
        "columns": 14,
        "rows": 6
       }
      },
      "text/html": [
       "<div>\n",
       "<style scoped>\n",
       "    .dataframe tbody tr th:only-of-type {\n",
       "        vertical-align: middle;\n",
       "    }\n",
       "\n",
       "    .dataframe tbody tr th {\n",
       "        vertical-align: top;\n",
       "    }\n",
       "\n",
       "    .dataframe thead th {\n",
       "        text-align: right;\n",
       "    }\n",
       "</style>\n",
       "<table border=\"1\" class=\"dataframe\">\n",
       "  <thead>\n",
       "    <tr style=\"text-align: right;\">\n",
       "      <th></th>\n",
       "      <th>model</th>\n",
       "      <th>run_time_min</th>\n",
       "      <th>test_accuracy</th>\n",
       "      <th>test_recall</th>\n",
       "      <th>test_precision</th>\n",
       "      <th>test_f1</th>\n",
       "      <th>test_mcc</th>\n",
       "      <th>test_roc_auc</th>\n",
       "      <th>cv_accuracy_mean</th>\n",
       "      <th>cv_recall_mean</th>\n",
       "      <th>cv_precision_mean</th>\n",
       "      <th>cv_f1_mean</th>\n",
       "      <th>cv_mcc_mean</th>\n",
       "      <th>cv_roc_auc_mean</th>\n",
       "    </tr>\n",
       "  </thead>\n",
       "  <tbody>\n",
       "    <tr>\n",
       "      <th>0</th>\n",
       "      <td>DecisionTree</td>\n",
       "      <td>0.08</td>\n",
       "      <td>0.887160</td>\n",
       "      <td>0.205405</td>\n",
       "      <td>0.158996</td>\n",
       "      <td>0.179245</td>\n",
       "      <td>0.120847</td>\n",
       "      <td>0.568036</td>\n",
       "      <td>0.938088</td>\n",
       "      <td>0.947975</td>\n",
       "      <td>0.929661</td>\n",
       "      <td>0.938703</td>\n",
       "      <td>0.876395</td>\n",
       "      <td>0.938088</td>\n",
       "    </tr>\n",
       "    <tr>\n",
       "      <th>1</th>\n",
       "      <td>RandomForest</td>\n",
       "      <td>1.97</td>\n",
       "      <td>0.939040</td>\n",
       "      <td>0.048649</td>\n",
       "      <td>0.428571</td>\n",
       "      <td>0.087379</td>\n",
       "      <td>0.128522</td>\n",
       "      <td>0.522255</td>\n",
       "      <td>0.971961</td>\n",
       "      <td>0.949412</td>\n",
       "      <td>0.994262</td>\n",
       "      <td>0.971310</td>\n",
       "      <td>0.944901</td>\n",
       "      <td>0.971961</td>\n",
       "    </tr>\n",
       "    <tr>\n",
       "      <th>2</th>\n",
       "      <td>BalancedRandomForest</td>\n",
       "      <td>3.14</td>\n",
       "      <td>0.938392</td>\n",
       "      <td>0.043243</td>\n",
       "      <td>0.380952</td>\n",
       "      <td>0.077670</td>\n",
       "      <td>0.111918</td>\n",
       "      <td>0.519379</td>\n",
       "      <td>0.972306</td>\n",
       "      <td>0.949584</td>\n",
       "      <td>0.994802</td>\n",
       "      <td>0.971657</td>\n",
       "      <td>0.945607</td>\n",
       "      <td>0.972306</td>\n",
       "    </tr>\n",
       "    <tr>\n",
       "      <th>3</th>\n",
       "      <td>LogisticRegression</td>\n",
       "      <td>0.14</td>\n",
       "      <td>0.622568</td>\n",
       "      <td>0.551351</td>\n",
       "      <td>0.086221</td>\n",
       "      <td>0.149123</td>\n",
       "      <td>0.087152</td>\n",
       "      <td>0.589232</td>\n",
       "      <td>0.684301</td>\n",
       "      <td>0.702678</td>\n",
       "      <td>0.676165</td>\n",
       "      <td>0.688847</td>\n",
       "      <td>0.369213</td>\n",
       "      <td>0.684299</td>\n",
       "    </tr>\n",
       "    <tr>\n",
       "      <th>4</th>\n",
       "      <td>XGBoost</td>\n",
       "      <td>0.05</td>\n",
       "      <td>0.939689</td>\n",
       "      <td>0.081081</td>\n",
       "      <td>0.483871</td>\n",
       "      <td>0.138889</td>\n",
       "      <td>0.179874</td>\n",
       "      <td>0.537781</td>\n",
       "      <td>0.967621</td>\n",
       "      <td>0.942140</td>\n",
       "      <td>0.992739</td>\n",
       "      <td>0.966768</td>\n",
       "      <td>0.936474</td>\n",
       "      <td>0.967621</td>\n",
       "    </tr>\n",
       "    <tr>\n",
       "      <th>5</th>\n",
       "      <td>LightGBM</td>\n",
       "      <td>0.06</td>\n",
       "      <td>0.941310</td>\n",
       "      <td>0.043243</td>\n",
       "      <td>0.666667</td>\n",
       "      <td>0.081218</td>\n",
       "      <td>0.159678</td>\n",
       "      <td>0.520932</td>\n",
       "      <td>0.969159</td>\n",
       "      <td>0.941306</td>\n",
       "      <td>0.996836</td>\n",
       "      <td>0.968267</td>\n",
       "      <td>0.939790</td>\n",
       "      <td>0.969159</td>\n",
       "    </tr>\n",
       "  </tbody>\n",
       "</table>\n",
       "</div>"
      ],
      "text/plain": [
       "                  model  run_time_min  test_accuracy  test_recall  \\\n",
       "0          DecisionTree          0.08       0.887160     0.205405   \n",
       "1          RandomForest          1.97       0.939040     0.048649   \n",
       "2  BalancedRandomForest          3.14       0.938392     0.043243   \n",
       "3    LogisticRegression          0.14       0.622568     0.551351   \n",
       "4               XGBoost          0.05       0.939689     0.081081   \n",
       "5              LightGBM          0.06       0.941310     0.043243   \n",
       "\n",
       "   test_precision   test_f1  test_mcc  test_roc_auc  cv_accuracy_mean  \\\n",
       "0        0.158996  0.179245  0.120847      0.568036          0.938088   \n",
       "1        0.428571  0.087379  0.128522      0.522255          0.971961   \n",
       "2        0.380952  0.077670  0.111918      0.519379          0.972306   \n",
       "3        0.086221  0.149123  0.087152      0.589232          0.684301   \n",
       "4        0.483871  0.138889  0.179874      0.537781          0.967621   \n",
       "5        0.666667  0.081218  0.159678      0.520932          0.969159   \n",
       "\n",
       "   cv_recall_mean  cv_precision_mean  cv_f1_mean  cv_mcc_mean  cv_roc_auc_mean  \n",
       "0        0.947975           0.929661    0.938703     0.876395         0.938088  \n",
       "1        0.949412           0.994262    0.971310     0.944901         0.971961  \n",
       "2        0.949584           0.994802    0.971657     0.945607         0.972306  \n",
       "3        0.702678           0.676165    0.688847     0.369213         0.684299  \n",
       "4        0.942140           0.992739    0.966768     0.936474         0.967621  \n",
       "5        0.941306           0.996836    0.968267     0.939790         0.969159  "
      ]
     },
     "execution_count": 8,
     "metadata": {},
     "output_type": "execute_result"
    }
   ],
   "source": [
    "df_results"
   ]
  },
  {
   "cell_type": "markdown",
   "id": "51a407bc",
   "metadata": {},
   "source": [
    "A pesar de que modelos como **Random Forest** o **LightGBM** presentan una mayor precisión general en el conjunto de test (`test_accuracy` > 0.93), su **recall** es extremadamente bajo, lo cual es problemático en un contexto de detección de fraude. En este tipo de escenarios, el **recall** (capacidad del modelo para identificar correctamente los casos fraudulentos) es una métrica crítica, ya que los falsos negativos (casos de fraude no detectados) tienen un coste significativo para las aseguradoras.\n",
    "\n",
    "En cambio, **Logistic Regression**, aunque con menor precisión general, logra el **recall más alto del conjunto (55,1%)**, mostrando un mejor equilibrio entre sensibilidad y precisión frente a los casos minoritarios de fraude. También ofrece un rendimiento competitivo en `test_f1` y `test_roc_auc`, lo que sugiere una mejor capacidad de generalización en situaciones desbalanceadas como la de este dataset."
   ]
  },
  {
   "cell_type": "markdown",
   "id": "ad25b671",
   "metadata": {},
   "source": [
    "## Refinamiento del modelo base de Logistic Regression"
   ]
  },
  {
   "cell_type": "markdown",
   "id": "738cc2b0",
   "metadata": {},
   "source": [
    "Tras seleccionar **Logistic Regression** como modelo base por su buen desempeño en *recall* y su interpretabilidad, se procede a **refinar y optimizar este modelo** con el objetivo de mejorar su capacidad predictiva."
   ]
  },
  {
   "cell_type": "markdown",
   "id": "b2a56214",
   "metadata": {},
   "source": [
    "### Optimización del modelo"
   ]
  },
  {
   "cell_type": "markdown",
   "id": "33a401ae",
   "metadata": {},
   "source": [
    "Uso de `GridSearchCV` para buscar los mejores valores de:\n",
    "- **C**: controla la regularización (menor valor = más regularización).\n",
    "- **penalty**: tipo de regularización (l1, l2, elasticnet).\n",
    "- **solver**: dependiendo del penalty elegido.\n",
    "- **class_weight**: ajusta el impacto relativo de cada clase en el entrenamiento del modelo."
   ]
  },
  {
   "cell_type": "code",
   "execution_count": 9,
   "id": "05bc2e60",
   "metadata": {},
   "outputs": [
    {
     "name": "stdout",
     "output_type": "stream",
     "text": [
      "Fitting 5 folds for each of 60 candidates, totalling 300 fits\n"
     ]
    },
    {
     "name": "stderr",
     "output_type": "stream",
     "text": [
      "\n",
      "50 fits failed out of a total of 300.\n",
      "The score on these train-test partitions for these parameters will be set to nan.\n",
      "If these failures are not expected, you can try to debug them by setting error_score='raise'.\n",
      "\n",
      "Below are more details about the failures:\n",
      "--------------------------------------------------------------------------------\n",
      "50 fits failed with the following error:\n",
      "Traceback (most recent call last):\n",
      "  File \"c:\\Users\\Emma\\anaconda3\\envs\\tfm\\Lib\\site-packages\\sklearn\\model_selection\\_validation.py\", line 729, in _fit_and_score\n",
      "    estimator.fit(X_train, y_train, **fit_params)\n",
      "  File \"c:\\Users\\Emma\\anaconda3\\envs\\tfm\\Lib\\site-packages\\sklearn\\base.py\", line 1152, in wrapper\n",
      "    return fit_method(estimator, *args, **kwargs)\n",
      "           ^^^^^^^^^^^^^^^^^^^^^^^^^^^^^^^^^^^^^^\n",
      "  File \"c:\\Users\\Emma\\anaconda3\\envs\\tfm\\Lib\\site-packages\\sklearn\\linear_model\\_logistic.py\", line 1169, in fit\n",
      "    solver = _check_solver(self.solver, self.penalty, self.dual)\n",
      "             ^^^^^^^^^^^^^^^^^^^^^^^^^^^^^^^^^^^^^^^^^^^^^^^^^^^\n",
      "  File \"c:\\Users\\Emma\\anaconda3\\envs\\tfm\\Lib\\site-packages\\sklearn\\linear_model\\_logistic.py\", line 56, in _check_solver\n",
      "    raise ValueError(\n",
      "ValueError: Solver lbfgs supports only 'l2' or 'none' penalties, got l1 penalty.\n",
      "\n",
      "One or more of the test scores are non-finite: [0.78491179 0.44393805        nan 0.78033516 0.44455682 0.68871372\n",
      " 0.78481462 0.44397125        nan 0.78112817 0.44455838 0.7083204\n",
      " 0.79175168 0.4445655         nan 0.78623708 0.44457979 0.68710038\n",
      " 0.79166495 0.44471347        nan 0.78707308 0.44455838 0.70824088\n",
      " 0.79239066 0.44457979        nan 0.78725341 0.44457979 0.69722938\n",
      " 0.79243546 0.44455838        nan 0.78688669 0.44455838 0.70979058\n",
      " 0.79236174 0.44463749        nan 0.78574831 0.44466047 0.70912471\n",
      " 0.7926682  0.44455838        nan 0.78691724 0.44455838 0.68902037\n",
      " 0.79248724 0.44455682        nan 0.78553913 0.44465896 0.70746102\n",
      " 0.79233578 0.44455838        nan 0.78690096 0.44455838 0.68925465]\n"
     ]
    },
    {
     "name": "stdout",
     "output_type": "stream",
     "text": [
      "Mejor combinación: {'C': 10, 'class_weight': None, 'penalty': 'l1', 'solver': 'liblinear'}\n"
     ]
    }
   ],
   "source": [
    "param_grid = {\n",
    "    'C': [0.01, 0.1, 1, 10, 100],\n",
    "    'penalty': ['l1', 'l2'],\n",
    "    'solver': ['liblinear', 'saga', 'lbfgs'],\n",
    "    'class_weight': ['balanced', None],\n",
    "}\n",
    "\n",
    "logreg = LogisticRegression(max_iter=1000)\n",
    "\n",
    "# GridSearch\n",
    "grid = GridSearchCV(logreg, param_grid, cv=5, scoring='f1', n_jobs=-1, verbose=1)\n",
    "grid.fit(X_train_over, y_train_over)\n",
    "\n",
    "print(\"Mejor combinación:\", grid.best_params_)\n",
    "best_logreg = grid.best_estimator_"
   ]
  },
  {
   "cell_type": "markdown",
   "id": "b92c30af",
   "metadata": {},
   "source": [
    "Mejores hiperparámetros encontrados:\n",
    "- **C** = 10\n",
    "- **penalty** = 'l1'\n",
    "- **solver** = 'liblinear'\n",
    "- **class_weight** = balanced"
   ]
  },
  {
   "cell_type": "markdown",
   "id": "e078cda8",
   "metadata": {},
   "source": [
    "### Ajuste del umbral de decisión"
   ]
  },
  {
   "cell_type": "markdown",
   "id": "dfd377e6",
   "metadata": {},
   "source": [
    "El modelo de **Logistic Regression** devuelve, por defecto, una clasificación binaria utilizando un **umbral de 0.5** sobre la probabilidad estimada. Sin embargo, este valor no siempre es el más adecuado, especialmente en problemas con clases desbalanceadas, como es el caso.\n",
    "\n",
    "Ajustar el umbral permite modificar el equilibrio entre la sensibilidad (recall) y la precisión, favoreciendo, por ejemplo, una mayor detección de fraudes a costa de aceptar un mayor número de falsos positivos. Esto es crucial en contextos donde omitir un caso de fraude puede tener un coste elevado."
   ]
  },
  {
   "cell_type": "code",
   "execution_count": 10,
   "id": "816df51c",
   "metadata": {},
   "outputs": [
    {
     "name": "stdout",
     "output_type": "stream",
     "text": [
      "Mejor threshold según F1 Score: 0.69\n"
     ]
    },
    {
     "data": {
      "image/png": "[encoded data removed]",
      "text/plain": [
       "<Figure size 800x600 with 1 Axes>"
      ]
     },
     "metadata": {},
     "output_type": "display_data"
    }
   ],
   "source": [
    "# Probabilidades predichas por el modelo ajustado\n",
    "y_probs = best_logreg.predict_proba(X_test)[:, 1]\n",
    "\n",
    "# Curvas de precisión y recall\n",
    "precision, recall, thresholds = precision_recall_curve(y_test, y_probs)\n",
    "\n",
    "# F1 score para cada threshold\n",
    "f1_scores = 2 * (precision * recall) / (precision + recall + 1e-6)\n",
    "\n",
    "# Obtención del mejor threshold según F1\n",
    "best_thresh = thresholds[np.argmax(f1_scores)]\n",
    "print(f\"Mejor threshold según F1 Score: {round(best_thresh, 2)}\")\n",
    "\n",
    "# Gráfico\n",
    "plt.figure(figsize=(8, 6))\n",
    "plt.plot(thresholds, f1_scores[:-1], label='F1 Score')\n",
    "plt.plot(thresholds, precision[:-1], linestyle='--', label='Precision')\n",
    "plt.plot(thresholds, recall[:-1], linestyle='--', label='Recall')\n",
    "plt.axvline(best_thresh, color='red', linestyle=':', label=f'Mejor threshold: {round(best_thresh, 2)}')\n",
    "plt.xlabel('Threshold')\n",
    "plt.ylabel('Score')\n",
    "plt.title('Precision, Recall y F1 Score vs Threshold')\n",
    "plt.legend()\n",
    "plt.grid(True)\n",
    "plt.show()"
   ]
  },
  {
   "cell_type": "code",
   "execution_count": 11,
   "id": "ed4a2ac5",
   "metadata": {},
   "outputs": [
    {
     "name": "stdout",
     "output_type": "stream",
     "text": [
      "[[2456  443]\n",
      " [  98   87]]\n",
      "              precision    recall  f1-score   support\n",
      "\n",
      "           0     0.9616    0.8472    0.9008      2899\n",
      "           1     0.1642    0.4703    0.2434       185\n",
      "\n",
      "    accuracy                         0.8246      3084\n",
      "   macro avg     0.5629    0.6587    0.5721      3084\n",
      "weighted avg     0.9138    0.8246    0.8614      3084\n",
      "\n"
     ]
    }
   ],
   "source": [
    "y_pred_thresh = (y_probs >= best_thresh).astype(int)\n",
    "print(confusion_matrix(y_test, y_pred_thresh))\n",
    "print(classification_report(y_test, y_pred_thresh, digits=4))\n"
   ]
  },
  {
   "cell_type": "markdown",
   "id": "0c0f8f24",
   "metadata": {},
   "source": [
    "El reporte de clasificación muestra:\n",
    "- **Clase 0 (No fraude)**:\n",
    "  - Precision: 0.9702  \n",
    "  - Recall: 0.7741\n",
    "  - F1-score: 0.8611\n",
    "- **Clase 1 (Fraude)**:\n",
    "  - Precision: 0.1505\n",
    "  - Recall: 0.6270\n",
    "  - F1-score: 0.2427\n",
    "\n",
    "Estos resultados reflejan una mejora en la capacidad del modelo para detectar fraudes (recall de 62.7%), comparado con el modelo base que obtenía un recall de 55.1% para la clase minoritaria. \n",
    "\n",
    "En resumen, el ajuste del umbral ha permitido:\n",
    "- Aumentar la sensibilidad del modelo frente al fraude.\n",
    "- Mejorar la utilidad del sistema de detección en un escenario real.\n",
    "- Reforzar la orientación del modelo hacia la minimización de riesgos operativos para la aseguradora."
   ]
  },
  {
   "cell_type": "markdown",
   "id": "cc3b7317",
   "metadata": {},
   "source": [
    "### Feature selection"
   ]
  },
  {
   "cell_type": "markdown",
   "id": "44d0dfdf",
   "metadata": {},
   "source": [
    "En esta fase se procede a identificar y seleccionar las variables más importantes para la predicción del fraude.\n",
    "\n",
    "La selección de variables se realiza utilizando el modelo de Logistic Regression previamente ajustado, mediante la técnica `SelectFromModel`, que permite conservar únicamente aquellas características cuyo peso es superior al umbral definido (en este caso, la mediana de los coeficientes)."
   ]
  },
  {
   "cell_type": "code",
   "execution_count": 12,
   "id": "963692e2",
   "metadata": {},
   "outputs": [
    {
     "name": "stdout",
     "output_type": "stream",
     "text": [
      "Variables seleccionadas: ['Month', 'WeekOfMonth', 'AccidentArea', 'DayOfWeekClaimed', 'WeekOfMonthClaimed', 'Sex', 'Fault', 'VehicleCategory', 'PoliceReportFiled', 'WitnessPresent', 'AgentType', 'AddressChange_Claim', 'BasePolicy']\n"
     ]
    },
    {
     "name": "stderr",
     "output_type": "stream",
     "text": [
      "X has feature names, but SelectFromModel was fitted without feature names\n",
      "X has feature names, but SelectFromModel was fitted without feature names\n"
     ]
    }
   ],
   "source": [
    "\n",
    "selector = SelectFromModel(best_logreg, threshold='median', prefit=True)\n",
    "X_train_selected = selector.transform(X_train_over)\n",
    "X_test_selected = selector.transform(X_test)\n",
    "\n",
    "selected_features = X_train_over.columns[selector.get_support()]\n",
    "print(\"Variables seleccionadas:\", list(selected_features))\n"
   ]
  },
  {
   "cell_type": "markdown",
   "id": "64ee819a",
   "metadata": {},
   "source": [
    "Se prueba el modelo solo con las variables seleccionadas:"
   ]
  },
  {
   "cell_type": "code",
   "execution_count": 13,
   "id": "adb37f52",
   "metadata": {},
   "outputs": [
    {
     "name": "stdout",
     "output_type": "stream",
     "text": [
      "Evaluación:\n",
      "[[2079  820]\n",
      " [  59  126]]\n",
      "              precision    recall  f1-score   support\n",
      "\n",
      "           0     0.9724    0.7171    0.8255      2899\n",
      "           1     0.1332    0.6811    0.2228       185\n",
      "\n",
      "    accuracy                         0.7150      3084\n",
      "   macro avg     0.5528    0.6991    0.5242      3084\n",
      "weighted avg     0.9221    0.7150    0.7893      3084\n",
      "\n"
     ]
    }
   ],
   "source": [
    "best_logreg_copy = best_logreg.__class__(**best_logreg.get_params())  # Copia con los mismos parámetros\n",
    "best_logreg_copy.fit(X_train_selected, y_train_over) \n",
    "\n",
    "# Predicciones\n",
    "y_pred = best_logreg_copy.predict(X_test_selected)\n",
    "\n",
    "# Evaluación\n",
    "print(\"Evaluación:\")\n",
    "print(confusion_matrix(y_test, y_pred))\n",
    "print(classification_report(y_test, y_pred, digits=4))"
   ]
  },
  {
   "cell_type": "markdown",
   "id": "4991ce44",
   "metadata": {},
   "source": [
    "El resumen de métricas es:\n",
    "- **Clase 0 (No fraude)**:\n",
    "  - Precision: 0.9724\n",
    "  - Recall: 0.7171\n",
    "  - F1-score: 0.8255 \n",
    "- **Clase 1 (Fraude)**:\n",
    "  - Precision: 0.1332\n",
    "  - Recall: 0.6811\n",
    "  - F1-score: 0.2228 \n",
    "\n",
    "Aunque este modelo con menos features tiene un mejor recall en la clase minoritaria (fraude), el modelo anterior tiene un mejor equilibrio global en términos de F1-Score y accuracy, tanto para la clase mayoritaria como para la clase minoritaria. También es más eficaz en identificar correctamente las instancias de la clase mayoritaria (precisión y F1-Score), lo que lo hace más equilibrado en términos de rendimiento global.\n",
    "\n",
    "Este deterioro en el rendimiento puede explicarse por el hecho de que, en problemas complejos como el fraude, la señal predictiva no suele estar concentrada en unas pocas variables. Más bien, es la combinación de muchas variables con pesos pequeños la que permite detectar los patrones sutiles de fraude.\n",
    "\n",
    "En este caso, al eliminar variables que individualmente parecen poco relevantes pero que en conjunto aportan valor, el modelo pierde sensibilidad. Por tanto, esta experiencia demuestra que, para este problema:\n",
    "\n",
    "> **Reducir el número de variables no mejora el rendimiento, y puede incluso perjudicar la capacidad del modelo para identificar correctamente los fraudes.**\n",
    "\n",
    "Como conclusión, **mantener el conjunto completo de variables** resulta una mejor estrategia para preservar la capacidad predictiva del modelo."
   ]
  },
  {
   "cell_type": "markdown",
   "id": "826b7a76",
   "metadata": {},
   "source": [
    "### Ensemble de modelos"
   ]
  },
  {
   "cell_type": "markdown",
   "id": "5f6c4ae6",
   "metadata": {},
   "source": [
    "En esta sección se implementa una técnica de *ensemble* para mejorar la capacidad predictiva del sistema, combinando la salida de tres modelos previamente entrenados:\n",
    "- **Logistic Regression (optimizada)**  \n",
    "- **Random Forest**\n",
    "- **XGBoost**\n",
    "\n",
    "El enfoque consiste en ajustar cada modelo individualmente sobre el conjunto de entrenamiento (`X_train_over`) y luego calcular la probabilidad de clase para cada observación en el conjunto de test (`X_test`).\n",
    "\n",
    "Una vez obtenidas las probabilidades estimadas por cada modelo, se realiza una **combinación ponderada** de dichas probabilidades utilizando coeficientes personalizados:\n",
    "- 40% peso para Logistic Regression (`w_lr = 0.3`)\n",
    "- 20% para Random Forest (`w_rf = 0.3`)\n",
    "- 60% para XGBoost (`w_xgb = 0.4`)\n",
    "\n",
    "Esta estrategia permite **aprovechar las fortalezas de cada modelo**: la interpretabilidad y generalización de Logistic Regression, la robustez de Random Forest, y el alto rendimiento de XGBoost. Al combinar sus predicciones, se espera obtener una salida más equilibrada y precisa, especialmente en un problema con alta desbalance de clases como el fraude en seguros."
   ]
  },
  {
   "cell_type": "code",
   "execution_count": 14,
   "id": "e4fe7406",
   "metadata": {},
   "outputs": [
    {
     "name": "stdout",
     "output_type": "stream",
     "text": [
      "[[2141  758]\n",
      " [  54  131]]\n",
      "              precision    recall  f1-score   support\n",
      "\n",
      "           0     0.9754    0.7385    0.8406      2899\n",
      "           1     0.1474    0.7081    0.2439       185\n",
      "\n",
      "    accuracy                         0.7367      3084\n",
      "   macro avg     0.5614    0.7233    0.5423      3084\n",
      "weighted avg     0.9257    0.7367    0.8048      3084\n",
      "\n"
     ]
    }
   ],
   "source": [
    "# Configuración del modelo Random Forest\n",
    "rf = RandomForestClassifier(\n",
    "    n_estimators=100,\n",
    "    max_depth=None,\n",
    "    class_weight='balanced', \n",
    "    random_state=42,\n",
    "    n_jobs=-1\n",
    ")\n",
    "\n",
    "# Configuración del modelo XGBoost\n",
    "xgb = XGBClassifier(\n",
    "    n_estimators=100,\n",
    "    max_depth=4,\n",
    "    learning_rate=0.1,\n",
    "    scale_pos_weight=(len(y_train_over[y_train_over == 0]) / len(y_train_over[y_train_over == 1])),  # Rebalanceo manual\n",
    "    use_label_encoder=False,\n",
    "    eval_metric='logloss',\n",
    "    random_state=42,\n",
    "    verbosity=0\n",
    ")\n",
    "\n",
    "# Ajuste de modelos\n",
    "best_logreg.fit(X_train_over, y_train_over)\n",
    "rf.fit(X_train_over, y_train_over)\n",
    "xgb.fit(X_train_over, y_train_over)\n",
    "\n",
    "# Probabilidades\n",
    "probs_lr = best_logreg.predict_proba(X_test)[:, 1]\n",
    "probs_rf = rf.predict_proba(X_test)[:, 1]\n",
    "probs_xgb = xgb.predict_proba(X_test)[:, 1]\n",
    "\n",
    "# Pesos personalizados\n",
    "w_lr, w_rf, w_xgb = 0.4, 0.2, 0.6\n",
    "\n",
    "# Probabilidad combinada\n",
    "combined_probs = (w_lr * probs_lr) + (w_rf * probs_rf) + (w_xgb * probs_xgb)\n",
    "\n",
    "# Threshold más bajo para menos falsos positivos\n",
    "threshold = 0.35\n",
    "y_pred_weighted = (combined_probs >= threshold).astype(int)\n",
    "\n",
    "# Evaluación\n",
    "from sklearn.metrics import confusion_matrix, classification_report\n",
    "print(confusion_matrix(y_test, y_pred_weighted))\n",
    "print(classification_report(y_test, y_pred_weighted, digits=4))\n"
   ]
  },
  {
   "cell_type": "markdown",
   "id": "e3e65aad",
   "metadata": {},
   "source": [
    "Reporte de clasificación:\n",
    "- **Clase 0 (No fraude)**:\n",
    "  - Precision: 0.9754\n",
    "  - Recall: 0.7389\n",
    "  - F1-score: 0.8408\n",
    "- **Clase 1 (Fraude)**:\n",
    "  - Precision: 0.1475 \n",
    "  - Recall: 0.7081\n",
    "  - F1-score: 0.2442\n",
    "\n",
    "Este modelo de ensemble ha mostrado avances, especialmente en la **detección de la clase minoritaria (fraude)**. Aunque la precisión sigue siendo baja para la clase minoritaria, hay una mejora significativa en el **recall**, lo que indica que el modelo ahora es más efectivo al identificar fraudes en comparación con iteraciones previas.\n",
    "\n",
    "En general, el modelo mantiene una **precisión sólida para la clase mayoritaria** (Clase 0), pero ha mejorado en términos de **recall y sensibilidad hacia los fraudes**, lo cual es clave en este tipo de problemas desbalanceados."
   ]
  },
  {
   "cell_type": "markdown",
   "id": "038e4d78",
   "metadata": {},
   "source": [
    "### Ensemble de modelos + LightGBM"
   ]
  },
  {
   "cell_type": "markdown",
   "id": "91b6e2c3",
   "metadata": {},
   "source": [
    "\n",
    "Dado que los modelos individuales (Logistic Regression, Random Forest y XGBoost) muestran un buen rendimiento, se añade además **LightGBM**, un algoritmo basado en árboles de decisión optimizado para eficiencia y velocidad, especialmente útil en datasets con muchas variables categóricas como el de este proyecto.\n",
    "\n",
    "LightGBM destaca por su capacidad para manejar desbalance de clases y por su buen rendimiento en tareas de clasificación binaria con gran desequilibrio, por lo que se considera una excelente adición al sistema.\n",
    "\n",
    "Para este ensemble se utilizarán los siguientes pesos asignados a cada modelo en función de su rendimiento previo:\n",
    "- `w_lr = 0.1` (Logistic Regression)  \n",
    "- `w_rf = 0.1` (Random Forest)  \n",
    "- `w_xgb = 0.3` (XGBoost)  \n",
    "- `w_lgbm = 0.4` (LightGBM)\n",
    "\n",
    "Además, se empleará un **umbral de clasificación ajustado** de `threshold = 0.18`, calibrado previamente para maximizar el recall de la clase minoritaria (fraudes), lo que permite al sistema ser más sensible a los casos sospechosos sin comprometer excesivamente la precisión."
   ]
  },
  {
   "cell_type": "code",
   "execution_count": 31,
   "id": "368a2753",
   "metadata": {},
   "outputs": [
    {
     "name": "stdout",
     "output_type": "stream",
     "text": [
      "[LightGBM] [Info] Number of positive: 11597, number of negative: 11597\n",
      "[LightGBM] [Info] Auto-choosing row-wise multi-threading, the overhead of testing was 0.001109 seconds.\n",
      "You can set `force_row_wise=true` to remove the overhead.\n",
      "And if memory is not enough, you can set `force_col_wise=true`.\n",
      "[LightGBM] [Info] Total Bins 3748\n",
      "[LightGBM] [Info] Number of data points in the train set: 23194, number of used features: 26\n",
      "[LightGBM] [Info] [binary:BoostFromScore]: pavg=0.500000 -> initscore=0.000000\n",
      "[LightGBM] [Warning] No further splits with positive gain, best gain: -inf\n",
      "[LightGBM] [Warning] No further splits with positive gain, best gain: -inf\n",
      "[LightGBM] [Warning] No further splits with positive gain, best gain: -inf\n",
      "[LightGBM] [Warning] No further splits with positive gain, best gain: -inf\n",
      "[LightGBM] [Warning] No further splits with positive gain, best gain: -inf\n",
      "[LightGBM] [Warning] No further splits with positive gain, best gain: -inf\n",
      "[LightGBM] [Warning] No further splits with positive gain, best gain: -inf\n",
      "[LightGBM] [Warning] No further splits with positive gain, best gain: -inf\n",
      "[LightGBM] [Warning] No further splits with positive gain, best gain: -inf\n",
      "[LightGBM] [Warning] No further splits with positive gain, best gain: -inf\n",
      "[LightGBM] [Warning] No further splits with positive gain, best gain: -inf\n",
      "[LightGBM] [Warning] No further splits with positive gain, best gain: -inf\n",
      "[LightGBM] [Warning] No further splits with positive gain, best gain: -inf\n",
      "[LightGBM] [Warning] No further splits with positive gain, best gain: -inf\n",
      "[LightGBM] [Warning] No further splits with positive gain, best gain: -inf\n",
      "[LightGBM] [Warning] No further splits with positive gain, best gain: -inf\n",
      "[LightGBM] [Warning] No further splits with positive gain, best gain: -inf\n",
      "[LightGBM] [Warning] No further splits with positive gain, best gain: -inf\n",
      "[LightGBM] [Warning] No further splits with positive gain, best gain: -inf\n",
      "[LightGBM] [Warning] No further splits with positive gain, best gain: -inf\n",
      "[LightGBM] [Warning] No further splits with positive gain, best gain: -inf\n",
      "[LightGBM] [Warning] No further splits with positive gain, best gain: -inf\n",
      "[LightGBM] [Warning] No further splits with positive gain, best gain: -inf\n",
      "[LightGBM] [Warning] No further splits with positive gain, best gain: -inf\n",
      "[LightGBM] [Warning] No further splits with positive gain, best gain: -inf\n",
      "[LightGBM] [Warning] No further splits with positive gain, best gain: -inf\n",
      "[LightGBM] [Warning] No further splits with positive gain, best gain: -inf\n",
      "[LightGBM] [Warning] No further splits with positive gain, best gain: -inf\n",
      "[LightGBM] [Warning] No further splits with positive gain, best gain: -inf\n",
      "[LightGBM] [Warning] No further splits with positive gain, best gain: -inf\n",
      "[LightGBM] [Warning] No further splits with positive gain, best gain: -inf\n",
      "[LightGBM] [Warning] No further splits with positive gain, best gain: -inf\n",
      "[LightGBM] [Warning] No further splits with positive gain, best gain: -inf\n",
      "[LightGBM] [Warning] No further splits with positive gain, best gain: -inf\n",
      "[LightGBM] [Warning] No further splits with positive gain, best gain: -inf\n",
      "[LightGBM] [Warning] No further splits with positive gain, best gain: -inf\n",
      "[LightGBM] [Warning] No further splits with positive gain, best gain: -inf\n",
      "[LightGBM] [Warning] No further splits with positive gain, best gain: -inf\n",
      "[LightGBM] [Warning] No further splits with positive gain, best gain: -inf\n",
      "[LightGBM] [Warning] No further splits with positive gain, best gain: -inf\n",
      "[LightGBM] [Warning] No further splits with positive gain, best gain: -inf\n",
      "[LightGBM] [Warning] No further splits with positive gain, best gain: -inf\n",
      "[LightGBM] [Warning] No further splits with positive gain, best gain: -inf\n",
      "[LightGBM] [Warning] No further splits with positive gain, best gain: -inf\n",
      "[LightGBM] [Warning] No further splits with positive gain, best gain: -inf\n",
      "[LightGBM] [Warning] No further splits with positive gain, best gain: -inf\n",
      "[LightGBM] [Warning] No further splits with positive gain, best gain: -inf\n",
      "[LightGBM] [Warning] No further splits with positive gain, best gain: -inf\n",
      "[LightGBM] [Warning] No further splits with positive gain, best gain: -inf\n",
      "[LightGBM] [Warning] No further splits with positive gain, best gain: -inf\n",
      "[LightGBM] [Warning] No further splits with positive gain, best gain: -inf\n",
      "[LightGBM] [Warning] No further splits with positive gain, best gain: -inf\n",
      "[LightGBM] [Warning] No further splits with positive gain, best gain: -inf\n",
      "[LightGBM] [Warning] No further splits with positive gain, best gain: -inf\n",
      "[LightGBM] [Warning] No further splits with positive gain, best gain: -inf\n",
      "[LightGBM] [Warning] No further splits with positive gain, best gain: -inf\n",
      "[LightGBM] [Warning] No further splits with positive gain, best gain: -inf\n",
      "[LightGBM] [Warning] No further splits with positive gain, best gain: -inf\n",
      "[LightGBM] [Warning] No further splits with positive gain, best gain: -inf\n",
      "[LightGBM] [Warning] No further splits with positive gain, best gain: -inf\n",
      "[LightGBM] [Warning] No further splits with positive gain, best gain: -inf\n",
      "[LightGBM] [Warning] No further splits with positive gain, best gain: -inf\n",
      "[LightGBM] [Warning] No further splits with positive gain, best gain: -inf\n",
      "[LightGBM] [Warning] No further splits with positive gain, best gain: -inf\n",
      "[LightGBM] [Warning] No further splits with positive gain, best gain: -inf\n",
      "[LightGBM] [Warning] No further splits with positive gain, best gain: -inf\n",
      "[LightGBM] [Warning] No further splits with positive gain, best gain: -inf\n",
      "[LightGBM] [Warning] No further splits with positive gain, best gain: -inf\n",
      "[LightGBM] [Warning] No further splits with positive gain, best gain: -inf\n",
      "[LightGBM] [Warning] No further splits with positive gain, best gain: -inf\n",
      "[LightGBM] [Warning] No further splits with positive gain, best gain: -inf\n",
      "[LightGBM] [Warning] No further splits with positive gain, best gain: -inf\n",
      "[LightGBM] [Warning] No further splits with positive gain, best gain: -inf\n",
      "[LightGBM] [Warning] No further splits with positive gain, best gain: -inf\n",
      "[LightGBM] [Warning] No further splits with positive gain, best gain: -inf\n",
      "[LightGBM] [Warning] No further splits with positive gain, best gain: -inf\n",
      "[LightGBM] [Warning] No further splits with positive gain, best gain: -inf\n",
      "[LightGBM] [Warning] No further splits with positive gain, best gain: -inf\n",
      "[LightGBM] [Warning] No further splits with positive gain, best gain: -inf\n",
      "[LightGBM] [Warning] No further splits with positive gain, best gain: -inf\n",
      "[LightGBM] [Warning] No further splits with positive gain, best gain: -inf\n",
      "[LightGBM] [Warning] No further splits with positive gain, best gain: -inf\n",
      "[LightGBM] [Warning] No further splits with positive gain, best gain: -inf\n",
      "[LightGBM] [Warning] No further splits with positive gain, best gain: -inf\n",
      "[LightGBM] [Warning] No further splits with positive gain, best gain: -inf\n",
      "[LightGBM] [Warning] No further splits with positive gain, best gain: -inf\n",
      "[LightGBM] [Warning] No further splits with positive gain, best gain: -inf\n",
      "[LightGBM] [Warning] No further splits with positive gain, best gain: -inf\n",
      "[LightGBM] [Warning] No further splits with positive gain, best gain: -inf\n",
      "[LightGBM] [Warning] No further splits with positive gain, best gain: -inf\n",
      "[LightGBM] [Warning] No further splits with positive gain, best gain: -inf\n",
      "[LightGBM] [Warning] No further splits with positive gain, best gain: -inf\n",
      "[LightGBM] [Warning] No further splits with positive gain, best gain: -inf\n",
      "[LightGBM] [Warning] No further splits with positive gain, best gain: -inf\n",
      "[LightGBM] [Warning] No further splits with positive gain, best gain: -inf\n",
      "[LightGBM] [Warning] No further splits with positive gain, best gain: -inf\n",
      "[LightGBM] [Warning] No further splits with positive gain, best gain: -inf\n",
      "[LightGBM] [Warning] No further splits with positive gain, best gain: -inf\n",
      "[LightGBM] [Warning] No further splits with positive gain, best gain: -inf\n",
      "[LightGBM] [Warning] No further splits with positive gain, best gain: -inf\n",
      "[[2140  759]\n",
      " [  51  134]]\n",
      "              precision    recall  f1-score   support\n",
      "\n",
      "           0     0.9767    0.7382    0.8409      2899\n",
      "           1     0.1501    0.7243    0.2486       185\n",
      "\n",
      "    accuracy                         0.7374      3084\n",
      "   macro avg     0.5634    0.7313    0.5447      3084\n",
      "weighted avg     0.9271    0.7374    0.8053      3084\n",
      "\n"
     ]
    }
   ],
   "source": [
    "lgbm = LGBMClassifier(\n",
    "    n_estimators=100,\n",
    "    max_depth=4,\n",
    "    class_weight='balanced',\n",
    "    learning_rate=0.1,\n",
    "    random_state=42\n",
    ")\n",
    "lgbm.fit(X_train_over, y_train_over)\n",
    "probs_lgbm = lgbm.predict_proba(X_test)[:, 1]\n",
    "\n",
    "# Nuevo ajuste de pesos\n",
    "w_lr, w_rf, w_xgb, w_lgbm = 0.1, 0.1, 0.3, 0.4\n",
    "combined_probs = (w_lr * probs_lr) + (w_rf * probs_rf) + (w_xgb * probs_xgb) + (w_lgbm * probs_lgbm)\n",
    "\n",
    "threshold = 0.18\n",
    "y_pred_weighted = (combined_probs >= threshold).astype(int)\n",
    "print(confusion_matrix(y_test, y_pred_weighted))\n",
    "print(classification_report(y_test, y_pred_weighted, digits=4))"
   ]
  },
  {
   "cell_type": "markdown",
   "id": "27fbc56e",
   "metadata": {},
   "source": [
    "## Modelo final\n"
   ]
  },
  {
   "cell_type": "markdown",
   "id": "1e51d07f",
   "metadata": {},
   "source": [
    "Tras evaluar distintas configuraciones de ensemble, se compararon dos versiones clave para seleccionar el modelo final que será integrado en el sistema de ayuda a la decisión:\n",
    "\n",
    "| **Métrica**      | **Modelo Ensemble + LightGBM**  | **Modelo Ensemble** |\n",
    "|----------------------|------------------------------|------------------------------|\n",
    "| **Precision (Fraude)**| 15.01%                       | 14.75%                       |\n",
    "| **Recall (Fraude)**   | 72.43%                       | 70.81%                       |\n",
    "| **F1-score (Fraude)** | 24.86%                       | 24.42%                       |\n",
    "| **Accuracy**          | 73.74%                       | 73.70%                       |\n",
    "| **True Positives (TP)**| 134                        | 131                          |\n",
    "| **False Positives (FP)**| 759                        | 757                          |\n",
    "| **True Negatives (TN)**| 2140                        | 2142                        |\n",
    "| **False Negatives (FN)**| 51                         | 54                           |\n",
    "\n",
    "> **Nota**: Los modelos fueron evaluados sobre el mismo conjunto de test (n = 3084), y se calibraron con distintos umbrales (`threshold`) para observar el impacto en el recall y precisión del fraude detectado.\n",
    "\n",
    "\n",
    "### Justificación del modelo seleccionado\n",
    "\n",
    "El modelo elegido como **modelo final** es el **ensemble con LightGBM y threshold 0.18**. Esta decisión se fundamenta en:\n",
    "\n",
    "- **Gran cobertura de fraudes**:  \n",
    "  Se trata de un modelo que logra detectar un gran número de reclamos fraudulentos, reduciendo los falsos negativos a solo 51 casos. En un sistema antifraude, este aspecto es crucial, ya que el objetivo principal es **minimizar los fraudes no detectados**.\n",
    "\n",
    "- **Coherencia con sistemas antifraude reales**:  \n",
    "  Aunque la precisión en fraudes es baja (15.01%), este comportamiento es común en la industria. Los detectores de fraude suelen priorizar el recall, aceptando un volumen elevado de falsos positivos que luego se depuran en **capas posteriores** (reglas de negocio, modelos adicionales o revisión manual).\n",
    "\n",
    "- **Alineación con los objetivos del proyecto**:  \n",
    "  El propósito del sistema no es emitir una decisión final automática, sino servir como un **filtro inicial** que apoye a los empleados en la identificación de reclamos sospechosos. De este modo, el modelo actúa como una herramienta de priorización que garantiza que los posibles fraudes no pasen desapercibidos.\n",
    "\n",
    "- **Balance entre riesgo y coste operativo**:  \n",
    "  Aunque el número de falsos positivos es alto (759), estos casos representan reclamos que simplemente pasarán por una revisión adicional. El coste de revisar casos legítimos es menor que el riesgo económico de dejar escapar fraudes.\n",
    "\n",
    "### Consideraciones sobre las métricas\n",
    "\n",
    "En contextos de **detección de fraude**, el uso de **accuracy como métrica principal puede ser engañoso**. Dado que los fraudes representan un porcentaje muy pequeño del total de reclamos, un modelo que simplemente prediga “no fraude” para todos los casos obtendría una accuracy artificialmente alta, sin aportar valor real.\n",
    "\n",
    "Por tanto, en este proyecto se han priorizado métricas más adecuadas:\n",
    "- **Recall (fraude)**: mide la capacidad del sistema para detectar los fraudes reales (minimizar falsos negativos).\n",
    "- **Precision (fraude)**: evalúa qué proporción de los casos detectados como fraude lo son realmente (minimizar falsos positivos).\n",
    "- **F1-score (fraude)**: proporciona un balance entre ambas, clave para elegir el modelo más eficiente y efectivo.\n",
    "- **Confusión entre recall y precisión**: ajustar el threshold nos permite buscar el equilibrio deseado en función del impacto que tiene cada tipo de error.\n",
    "\n",
    "\n",
    "Este enfoque orientado a métricas sensibles a la clase minoritaria es lo que permite que el modelo final no solo sea preciso, sino también **accionable**, ayudando a las aseguradoras a priorizar los casos más sospechosos sin saturar el sistema de alertas."
   ]
  },
  {
   "cell_type": "markdown",
   "id": "5210975a",
   "metadata": {},
   "source": [
    "# Guardado de artifacts para productivizar"
   ]
  },
  {
   "cell_type": "markdown",
   "id": "c0e24765",
   "metadata": {},
   "source": [
    "Guardado de los modelos individuales que se usan en el ensemble:"
   ]
  },
  {
   "cell_type": "code",
   "execution_count": 32,
   "id": "60143a81",
   "metadata": {},
   "outputs": [
    {
     "data": {
      "text/plain": [
       "['../Artifacts/model_lgbm.pkl']"
      ]
     },
     "execution_count": 32,
     "metadata": {},
     "output_type": "execute_result"
    }
   ],
   "source": [
    "joblib.dump(best_logreg, '../Artifacts/model_logreg.pkl')\n",
    "joblib.dump(rf, '../Artifacts/model_rf.pkl')\n",
    "joblib.dump(xgb, '../Artifacts/model_xgb.pkl')\n",
    "joblib.dump(lgbm, '../Artifacts/model_lgbm.pkl')"
   ]
  },
  {
   "cell_type": "markdown",
   "id": "279c7e07",
   "metadata": {},
   "source": [
    "Guardado del threshold y pesos del ensemble:"
   ]
  },
  {
   "cell_type": "code",
   "execution_count": 33,
   "id": "c01b1e13",
   "metadata": {},
   "outputs": [],
   "source": [
    "ensemble_config = {\n",
    "    'weights': {\n",
    "        'logreg': 0.1,\n",
    "        'rf': 0.1,\n",
    "        'xgb': 0.3,\n",
    "        'lgbm': 0.4\n",
    "    },\n",
    "    'threshold': 0.18\n",
    "}\n",
    "\n",
    "with open('../Artifacts/ensemble_config.json', 'w') as f:\n",
    "    json.dump(ensemble_config, f)"
   ]
  },
  {
   "cell_type": "markdown",
   "id": "24307684",
   "metadata": {},
   "source": [
    "Guardado de las explicaciones SHAP para predicciones del modelo principal:"
   ]
  },
  {
   "cell_type": "code",
   "execution_count": 34,
   "id": "d7008650",
   "metadata": {},
   "outputs": [
    {
     "data": {
      "text/plain": [
       "['../Artifacts/explainer.pkl']"
      ]
     },
     "execution_count": 34,
     "metadata": {},
     "output_type": "execute_result"
    }
   ],
   "source": [
    "explainer = shap.TreeExplainer(lgbm)\n",
    "joblib.dump(explainer, '../Artifacts/explainer.pkl')"
   ]
  },
  {
   "cell_type": "markdown",
   "id": "5ef9ba38",
   "metadata": {},
   "source": [
    "Guardado de la lista de columnas/orden esperado por los modelos:"
   ]
  },
  {
   "cell_type": "code",
   "execution_count": 35,
   "id": "af0583cf",
   "metadata": {},
   "outputs": [
    {
     "data": {
      "text/plain": [
       "['../Artifacts/feature_cols.pkl']"
      ]
     },
     "execution_count": 35,
     "metadata": {},
     "output_type": "execute_result"
    }
   ],
   "source": [
    "joblib.dump(list(X_train.columns), '../Artifacts/feature_cols.pkl')"
   ]
  }
 ],
 "metadata": {
  "kernelspec": {
   "display_name": "tfm",
   "language": "python",
   "name": "python3"
  },
  "language_info": {
   "codemirror_mode": {
    "name": "ipython",
    "version": 3
   },
   "file_extension": ".py",
   "mimetype": "text/x-python",
   "name": "python",
   "nbconvert_exporter": "python",
   "pygments_lexer": "ipython3",
   "version": "3.11.13"
  }
 },
 "nbformat": 4,
 "nbformat_minor": 5
}
